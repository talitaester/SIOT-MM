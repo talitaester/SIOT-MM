{
 "cells": [
  {
   "cell_type": "code",
   "execution_count": 1,
   "metadata": {},
   "outputs": [
    {
     "data": {
      "text/html": [
       "<div>\n",
       "<style scoped>\n",
       "    .dataframe tbody tr th:only-of-type {\n",
       "        vertical-align: middle;\n",
       "    }\n",
       "\n",
       "    .dataframe tbody tr th {\n",
       "        vertical-align: top;\n",
       "    }\n",
       "\n",
       "    .dataframe thead th {\n",
       "        text-align: right;\n",
       "    }\n",
       "</style>\n",
       "<table border=\"1\" class=\"dataframe\">\n",
       "  <thead>\n",
       "    <tr style=\"text-align: right;\">\n",
       "      <th></th>\n",
       "      <th>id1</th>\n",
       "      <th>id2</th>\n",
       "      <th>tStart</th>\n",
       "      <th>tEnd</th>\n",
       "      <th>x1</th>\n",
       "      <th>y1</th>\n",
       "      <th>x2</th>\n",
       "      <th>y2</th>\n",
       "    </tr>\n",
       "  </thead>\n",
       "  <tbody>\n",
       "    <tr>\n",
       "      <th>0</th>\n",
       "      <td>1760</td>\n",
       "      <td>38</td>\n",
       "      <td>1.0</td>\n",
       "      <td>32.0</td>\n",
       "      <td>2261.405221</td>\n",
       "      <td>394.547765</td>\n",
       "      <td>2099.890813</td>\n",
       "      <td>332.775425</td>\n",
       "    </tr>\n",
       "    <tr>\n",
       "      <th>1</th>\n",
       "      <td>38</td>\n",
       "      <td>1760</td>\n",
       "      <td>1.0</td>\n",
       "      <td>32.0</td>\n",
       "      <td>2099.890813</td>\n",
       "      <td>332.775425</td>\n",
       "      <td>2261.405221</td>\n",
       "      <td>394.547765</td>\n",
       "    </tr>\n",
       "    <tr>\n",
       "      <th>2</th>\n",
       "      <td>1761</td>\n",
       "      <td>38</td>\n",
       "      <td>1.0</td>\n",
       "      <td>32.0</td>\n",
       "      <td>2261.405221</td>\n",
       "      <td>394.547765</td>\n",
       "      <td>2099.890813</td>\n",
       "      <td>332.775425</td>\n",
       "    </tr>\n",
       "    <tr>\n",
       "      <th>3</th>\n",
       "      <td>38</td>\n",
       "      <td>1761</td>\n",
       "      <td>1.0</td>\n",
       "      <td>32.0</td>\n",
       "      <td>2099.890813</td>\n",
       "      <td>332.775425</td>\n",
       "      <td>2261.405221</td>\n",
       "      <td>394.547765</td>\n",
       "    </tr>\n",
       "    <tr>\n",
       "      <th>4</th>\n",
       "      <td>1762</td>\n",
       "      <td>38</td>\n",
       "      <td>1.0</td>\n",
       "      <td>32.0</td>\n",
       "      <td>2261.405221</td>\n",
       "      <td>394.547765</td>\n",
       "      <td>2099.890813</td>\n",
       "      <td>332.775425</td>\n",
       "    </tr>\n",
       "    <tr>\n",
       "      <th>...</th>\n",
       "      <td>...</td>\n",
       "      <td>...</td>\n",
       "      <td>...</td>\n",
       "      <td>...</td>\n",
       "      <td>...</td>\n",
       "      <td>...</td>\n",
       "      <td>...</td>\n",
       "      <td>...</td>\n",
       "    </tr>\n",
       "    <tr>\n",
       "      <th>61211347</th>\n",
       "      <td>3668</td>\n",
       "      <td>4189</td>\n",
       "      <td>258983.0</td>\n",
       "      <td>259200.0</td>\n",
       "      <td>909.966585</td>\n",
       "      <td>111.189952</td>\n",
       "      <td>799.880852</td>\n",
       "      <td>164.403640</td>\n",
       "    </tr>\n",
       "    <tr>\n",
       "      <th>61211348</th>\n",
       "      <td>4190</td>\n",
       "      <td>3668</td>\n",
       "      <td>258983.0</td>\n",
       "      <td>259200.0</td>\n",
       "      <td>799.880852</td>\n",
       "      <td>164.403640</td>\n",
       "      <td>909.966585</td>\n",
       "      <td>111.189952</td>\n",
       "    </tr>\n",
       "    <tr>\n",
       "      <th>61211349</th>\n",
       "      <td>3668</td>\n",
       "      <td>4190</td>\n",
       "      <td>258983.0</td>\n",
       "      <td>259200.0</td>\n",
       "      <td>909.966585</td>\n",
       "      <td>111.189952</td>\n",
       "      <td>799.880852</td>\n",
       "      <td>164.403640</td>\n",
       "    </tr>\n",
       "    <tr>\n",
       "      <th>61211350</th>\n",
       "      <td>4191</td>\n",
       "      <td>3668</td>\n",
       "      <td>258983.0</td>\n",
       "      <td>259200.0</td>\n",
       "      <td>799.880852</td>\n",
       "      <td>164.403640</td>\n",
       "      <td>909.966585</td>\n",
       "      <td>111.189952</td>\n",
       "    </tr>\n",
       "    <tr>\n",
       "      <th>61211351</th>\n",
       "      <td>3668</td>\n",
       "      <td>4191</td>\n",
       "      <td>258983.0</td>\n",
       "      <td>259200.0</td>\n",
       "      <td>909.966585</td>\n",
       "      <td>111.189952</td>\n",
       "      <td>799.880852</td>\n",
       "      <td>164.403640</td>\n",
       "    </tr>\n",
       "  </tbody>\n",
       "</table>\n",
       "<p>61211352 rows × 8 columns</p>\n",
       "</div>"
      ],
      "text/plain": [
       "           id1   id2    tStart      tEnd           x1          y1   \n",
       "0         1760    38       1.0      32.0  2261.405221  394.547765  \\\n",
       "1           38  1760       1.0      32.0  2099.890813  332.775425   \n",
       "2         1761    38       1.0      32.0  2261.405221  394.547765   \n",
       "3           38  1761       1.0      32.0  2099.890813  332.775425   \n",
       "4         1762    38       1.0      32.0  2261.405221  394.547765   \n",
       "...        ...   ...       ...       ...          ...         ...   \n",
       "61211347  3668  4189  258983.0  259200.0   909.966585  111.189952   \n",
       "61211348  4190  3668  258983.0  259200.0   799.880852  164.403640   \n",
       "61211349  3668  4190  258983.0  259200.0   909.966585  111.189952   \n",
       "61211350  4191  3668  258983.0  259200.0   799.880852  164.403640   \n",
       "61211351  3668  4191  258983.0  259200.0   909.966585  111.189952   \n",
       "\n",
       "                   x2          y2  \n",
       "0         2099.890813  332.775425  \n",
       "1         2261.405221  394.547765  \n",
       "2         2099.890813  332.775425  \n",
       "3         2261.405221  394.547765  \n",
       "4         2099.890813  332.775425  \n",
       "...               ...         ...  \n",
       "61211347   799.880852  164.403640  \n",
       "61211348   909.966585  111.189952  \n",
       "61211349   799.880852  164.403640  \n",
       "61211350   909.966585  111.189952  \n",
       "61211351   799.880852  164.403640  \n",
       "\n",
       "[61211352 rows x 8 columns]"
      ]
     },
     "execution_count": 1,
     "metadata": {},
     "output_type": "execute_result"
    }
   ],
   "source": [
    "import pandas as pd\n",
    "import plotly.express as px\n",
    "import plotly.graph_objects as go\n",
    "from tqdm.notebook import trange, tqdm\n",
    "\n",
    "contacts = pd.read_csv(r\"D:\\Users\\Talit\\Downloads\\SIOT-MM-implementations-main\\SIOTMM\\logs\\aSIOTmm_03-06-2023_22.06.26.761\\contacts_trace.csv\")\n",
    "info = pd.read_csv(r\"D:\\Users\\Talit\\Downloads\\SIOT-MM-implementations-main\\SIOTMM\\logs\\aSIOTmm_03-06-2023_22.06.26.761\\info.csv\")\n",
    "contacts\n"
   ]
  },
  {
   "cell_type": "code",
   "execution_count": 36,
   "metadata": {},
   "outputs": [
    {
     "name": "stdout",
     "output_type": "stream",
     "text": [
      "    id1   id2\n",
      "0  1760    38\n",
      "1    38  1760\n",
      "2  1761    38\n",
      "3    38  1761\n",
      "4  1762    38\n",
      "        id   owner        type\n",
      "0        2       1          SP\n",
      "1        3       1         TAB\n",
      "2        1       1   HumanNode\n",
      "3        5       4          SP\n",
      "4        6       4         TAB\n",
      "...    ...     ...         ...\n",
      "4273  4275    4274          SP\n",
      "4274  4276    4274         TAB\n",
      "4275  4277    4274          SW\n",
      "4276  4278    4274          LT\n",
      "4277  4274    4274   HumanNode\n",
      "\n",
      "[4278 rows x 3 columns]\n",
      "{2: ' SP', 3: ' TAB', 1: ' HumanNode', 5: ' SP', 6: ' TAB', 7: ' LT', 8: ' TV', 4: ' HumanNode', 10: ' SP', 11: ' TAB', 9: ' HumanNode', 13: ' SP', 14: ' TAB', 15: ' LT', 16: ' CON', 12: ' HumanNode', 18: ' SP', 19: ' TAB', 20: ' LT', 21: ' TV', 17: ' HumanNode', 23: ' SP', 24: ' TAB', 25: ' LT', 26: ' TV', 22: ' HumanNode', 28: ' SP', 29: ' TAB', 30: ' LT', 31: ' CON', 27: ' HumanNode', 33: ' SP', 34: ' TAB', 32: ' HumanNode', 36: ' SP', 35: ' HumanNode', 38: ' SP', 39: ' TAB', 40: ' LT', 37: ' HumanNode', 42: ' SP', 43: ' TAB', 44: ' LT', 41: ' HumanNode', 46: ' SP', 47: ' TAB', 48: ' LT', 45: ' HumanNode', 50: ' SP', 51: ' TAB', 52: ' LT', 53: ' TV', 49: ' HumanNode', 55: ' SP', 56: ' TAB', 57: ' LT', 54: ' HumanNode', 59: ' SP', 60: ' TAB', 58: ' HumanNode', 62: ' SP', 63: ' TAB', 61: ' HumanNode', 65: ' SP', 66: ' TAB', 64: ' HumanNode', 68: ' SP', 69: ' TAB', 70: ' LT', 67: ' HumanNode', 72: ' SP', 73: ' TAB', 74: ' LT', 75: ' TV', 71: ' HumanNode', 77: ' SP', 78: ' TAB', 79: ' LT', 80: ' TV', 76: ' HumanNode', 82: ' SP', 83: ' TAB', 84: ' LT', 85: ' TV', 81: ' HumanNode', 87: ' SP', 88: ' TAB', 89: ' LT', 86: ' HumanNode', 91: ' SP', 92: ' TAB', 93: ' LT', 90: ' HumanNode', 95: ' TAB', 96: ' LT', 94: ' HumanNode', 98: ' SP', 99: ' TAB', 97: ' HumanNode', 101: ' SP', 102: ' TAB', 103: ' LT', 100: ' HumanNode', 105: ' SP', 106: ' TAB', 107: ' LT', 104: ' HumanNode', 109: ' SP', 110: ' TAB', 111: ' SW', 112: ' CON', 108: ' HumanNode', 114: ' SP', 115: ' TAB', 116: ' SW', 117: ' TV', 113: ' HumanNode', 119: ' SP', 120: ' TAB', 121: ' LT', 118: ' HumanNode', 123: ' SP', 124: ' TAB', 125: ' LT', 126: ' TV', 122: ' HumanNode', 128: ' SP', 129: ' TAB', 130: ' LT', 127: ' HumanNode', 132: ' SP', 133: ' TAB', 134: ' CON', 131: ' HumanNode', 136: ' SP', 137: ' TAB', 138: ' LT', 139: ' CON', 135: ' HumanNode', 141: ' SP', 142: ' TAB', 143: ' LT', 144: ' TV', 140: ' HumanNode', 146: ' TAB', 147: ' LT', 148: ' TV', 145: ' HumanNode', 150: ' SP', 151: ' TAB', 152: ' TV', 149: ' HumanNode', 154: ' SP', 155: ' TAB', 153: ' HumanNode', 157: ' SP', 158: ' TAB', 159: ' LT', 160: ' TV', 156: ' HumanNode', 162: ' SP', 163: ' TAB', 164: ' LT', 165: ' TV', 161: ' HumanNode', 167: ' SP', 168: ' TAB', 169: ' LT', 170: ' CON', 166: ' HumanNode', 172: ' SP', 173: ' LT', 174: ' TV', 171: ' HumanNode', 176: ' SP', 177: ' TAB', 175: ' HumanNode', 179: ' SP', 180: ' TAB', 178: ' HumanNode', 182: ' SP', 183: ' TAB', 184: ' SW', 185: ' LT', 181: ' HumanNode', 187: ' SP', 188: ' LT', 186: ' HumanNode', 190: ' SP', 191: ' TAB', 192: ' LT', 193: ' TV', 194: ' CON', 189: ' HumanNode', 196: ' SP', 197: ' TAB', 198: ' LT', 199: ' CON', 195: ' HumanNode', 201: ' TAB', 202: ' LT', 200: ' HumanNode', 204: ' SP', 205: ' TAB', 206: ' LT', 207: ' CON', 203: ' HumanNode', 209: ' SP', 210: ' TAB', 208: ' HumanNode', 212: ' SP', 213: ' TAB', 214: ' LT', 215: ' TV', 211: ' HumanNode', 217: ' SP', 218: ' LT', 219: ' CON', 216: ' HumanNode', 221: ' SP', 222: ' TAB', 223: ' TV', 224: ' CON', 220: ' HumanNode', 226: ' SP', 227: ' TAB', 228: ' SW', 229: ' LT', 225: ' HumanNode', 231: ' SP', 230: ' HumanNode', 233: ' SP', 234: ' TAB', 235: ' LT', 236: ' CON', 232: ' HumanNode', 238: ' SP', 239: ' TAB', 237: ' HumanNode', 241: ' SP', 242: ' TAB', 243: ' TV', 240: ' HumanNode', 245: ' SP', 246: ' TAB', 247: ' LT', 244: ' HumanNode', 249: ' SP', 250: ' TAB', 248: ' HumanNode', 252: ' SP', 253: ' TAB', 254: ' CON', 251: ' HumanNode', 256: ' SP', 257: ' TAB', 258: ' LT', 255: ' HumanNode', 260: ' SP', 261: ' TAB', 262: ' SW', 263: ' LT', 259: ' HumanNode', 265: ' SP', 266: ' TAB', 267: ' LT', 264: ' HumanNode', 269: ' SP', 270: ' LT', 268: ' HumanNode', 272: ' SP', 273: ' TAB', 274: ' SW', 275: ' LT', 276: ' TV', 271: ' HumanNode', 278: ' LT', 277: ' HumanNode', 280: ' SP', 281: ' TAB', 282: ' LT', 283: ' TV', 279: ' HumanNode', 285: ' SP', 286: ' TAB', 287: ' LT', 288: ' TV', 284: ' HumanNode', 290: ' SP', 291: ' TAB', 292: ' LT', 289: ' HumanNode', 294: ' SP', 295: ' TAB', 293: ' HumanNode', 297: ' SP', 298: ' TAB', 299: ' CON', 296: ' HumanNode', 301: ' SP', 302: ' TAB', 303: ' LT', 300: ' HumanNode', 305: ' SP', 306: ' TAB', 304: ' HumanNode', 308: ' SP', 309: ' TAB', 307: ' HumanNode', 311: ' SP', 312: ' TAB', 313: ' LT', 310: ' HumanNode', 315: ' SP', 316: ' TAB', 317: ' LT', 314: ' HumanNode', 319: ' SP', 320: ' TAB', 321: ' SW', 322: ' LT', 318: ' HumanNode', 324: ' SP', 325: ' TAB', 326: ' SW', 327: ' LT', 328: ' TV', 329: ' CON', 323: ' HumanNode', 331: ' SP', 332: ' TAB', 330: ' HumanNode', 334: ' SP', 335: ' TAB', 333: ' HumanNode', 337: ' SP', 338: ' TAB', 339: ' LT', 336: ' HumanNode', 341: ' SP', 342: ' TAB', 343: ' LT', 344: ' TV', 340: ' HumanNode', 346: ' SP', 347: ' TAB', 348: ' SW', 349: ' LT', 345: ' HumanNode', 351: ' SP', 352: ' TAB', 353: ' CON', 350: ' HumanNode', 355: ' SP', 356: ' SW', 357: ' LT', 354: ' HumanNode', 359: ' SP', 360: ' TAB', 361: ' LT', 362: ' TV', 358: ' HumanNode', 364: ' SP', 365: ' TAB', 366: ' TV', 363: ' HumanNode', 368: ' SP', 369: ' CON', 367: ' HumanNode', 371: ' SP', 372: ' TAB', 373: ' TV', 374: ' CON', 370: ' HumanNode', 376: ' SP', 377: ' TAB', 378: ' TV', 375: ' HumanNode', 380: ' SP', 381: ' TAB', 382: ' LT', 383: ' TV', 379: ' HumanNode', 385: ' SP', 386: ' TAB', 387: ' TV', 384: ' HumanNode', 389: ' SP', 390: ' TAB', 391: ' LT', 388: ' HumanNode', 393: ' SP', 394: ' TAB', 395: ' LT', 396: ' CON', 392: ' HumanNode', 398: ' SP', 399: ' TAB', 400: ' TV', 397: ' HumanNode', 402: ' TAB', 401: ' HumanNode', 404: ' SP', 405: ' TAB', 406: ' LT', 403: ' HumanNode', 408: ' TAB', 409: ' SW', 410: ' CON', 407: ' HumanNode', 412: ' SP', 413: ' TAB', 414: ' LT', 411: ' HumanNode', 416: ' SP', 417: ' TAB', 418: ' SW', 415: ' HumanNode', 420: ' SP', 421: ' TAB', 422: ' TV', 419: ' HumanNode', 424: ' SP', 425: ' TAB', 426: ' LT', 427: ' CON', 423: ' HumanNode', 429: ' SP', 430: ' TAB', 431: ' LT', 432: ' TV', 428: ' HumanNode', 434: ' SP', 435: ' TAB', 433: ' HumanNode', 437: ' SP', 438: ' LT', 439: ' CON', 436: ' HumanNode', 441: ' LT', 440: ' HumanNode', 443: ' SP', 444: ' TAB', 442: ' HumanNode', 446: ' SP', 447: ' TAB', 445: ' HumanNode', 449: ' SP', 450: ' TAB', 451: ' LT', 448: ' HumanNode', 453: ' SP', 454: ' TAB', 455: ' TV', 456: ' CON', 452: ' HumanNode', 458: ' SP', 459: ' TAB', 460: ' LT', 457: ' HumanNode', 462: ' SP', 463: ' TAB', 464: ' LT', 461: ' HumanNode', 466: ' SP', 467: ' TAB', 468: ' LT', 469: ' TV', 465: ' HumanNode', 471: ' SP', 472: ' TAB', 473: ' SW', 474: ' LT', 475: ' TV', 470: ' HumanNode', 477: ' SP', 478: ' TAB', 479: ' LT', 480: ' CON', 476: ' HumanNode', 482: ' SP', 483: ' TAB', 484: ' LT', 481: ' HumanNode', 486: ' SP', 487: ' TAB', 488: ' LT', 485: ' HumanNode', 490: ' SP', 491: ' TAB', 492: ' LT', 493: ' TV', 489: ' HumanNode', 495: ' SP', 496: ' LT', 494: ' HumanNode', 498: ' SP', 499: ' TAB', 500: ' LT', 501: ' TV', 497: ' HumanNode', 503: ' SP', 504: ' TAB', 505: ' LT', 502: ' HumanNode', 507: ' SP', 508: ' TAB', 509: ' TV', 506: ' HumanNode', 511: ' SP', 512: ' TAB', 513: ' LT', 514: ' TV', 510: ' HumanNode', 516: ' TAB', 517: ' SW', 515: ' HumanNode', 519: ' SP', 520: ' TAB', 521: ' SW', 522: ' LT', 523: ' TV', 518: ' HumanNode', 525: ' SP', 526: ' TAB', 527: ' LT', 524: ' HumanNode', 529: ' SP', 530: ' TAB', 528: ' HumanNode', 532: ' SP', 533: ' TAB', 534: ' LT', 535: ' TV', 531: ' HumanNode', 537: ' SP', 538: ' TAB', 539: ' TV', 536: ' HumanNode', 541: ' SP', 542: ' TAB', 543: ' TV', 540: ' HumanNode', 545: ' SP', 546: ' TAB', 547: ' LT', 544: ' HumanNode', 549: ' SP', 550: ' TAB', 551: ' LT', 548: ' HumanNode', 553: ' SP', 554: ' TAB', 555: ' TV', 552: ' HumanNode', 557: ' SP', 558: ' TAB', 559: ' LT', 560: ' CON', 556: ' HumanNode', 562: ' SP', 563: ' TAB', 564: ' TV', 561: ' HumanNode', 566: ' SP', 567: ' TAB', 568: ' LT', 569: ' TV', 565: ' HumanNode', 571: ' SP', 572: ' TAB', 573: ' LT', 574: ' TV', 575: ' CON', 570: ' HumanNode', 577: ' SP', 578: ' TAB', 579: ' TV', 576: ' HumanNode', 581: ' SP', 582: ' TAB', 583: ' LT', 580: ' HumanNode', 585: ' SP', 586: ' TAB', 587: ' TV', 584: ' HumanNode', 589: ' SP', 590: ' TAB', 591: ' LT', 588: ' HumanNode', 593: ' SP', 594: ' TAB', 595: ' CON', 592: ' HumanNode', 597: ' SP', 598: ' TAB', 599: ' TV', 596: ' HumanNode', 601: ' SP', 602: ' TAB', 603: ' LT', 600: ' HumanNode', 605: ' SP', 606: ' TAB', 607: ' LT', 604: ' HumanNode', 609: ' SP', 610: ' TAB', 611: ' LT', 612: ' TV', 613: ' CON', 608: ' HumanNode', 615: ' SP', 616: ' TAB', 617: ' SW', 618: ' CON', 614: ' HumanNode', 620: ' SP', 621: ' TAB', 622: ' LT', 619: ' HumanNode', 624: ' SP', 625: ' TAB', 626: ' LT', 623: ' HumanNode', 628: ' SP', 629: ' TAB', 630: ' LT', 627: ' HumanNode', 632: ' SP', 633: ' TAB', 634: ' LT', 631: ' HumanNode', 636: ' SP', 637: ' TAB', 638: ' TV', 635: ' HumanNode', 640: ' SP', 641: ' TAB', 642: ' LT', 643: ' TV', 644: ' CON', 639: ' HumanNode', 646: ' SP', 647: ' TAB', 648: ' SW', 649: ' LT', 645: ' HumanNode', 651: ' SP', 652: ' LT', 650: ' HumanNode', 654: ' SP', 655: ' TAB', 656: ' LT', 653: ' HumanNode', 658: ' SP', 659: ' TAB', 660: ' CON', 657: ' HumanNode', 662: ' SP', 663: ' TAB', 664: ' LT', 661: ' HumanNode', 666: ' SP', 667: ' TAB', 668: ' LT', 665: ' HumanNode', 670: ' SP', 671: ' TAB', 669: ' HumanNode', 673: ' SP', 674: ' TAB', 675: ' LT', 672: ' HumanNode', 677: ' SP', 678: ' TAB', 679: ' LT', 676: ' HumanNode', 681: ' SP', 682: ' TAB', 683: ' SW', 684: ' LT', 685: ' TV', 686: ' CON', 680: ' HumanNode', 688: ' SP', 689: ' TAB', 690: ' SW', 691: ' LT', 692: ' TV', 687: ' HumanNode', 694: ' SP', 695: ' TAB', 696: ' TV', 693: ' HumanNode', 698: ' SP', 699: ' TAB', 700: ' TV', 701: ' CON', 697: ' HumanNode', 703: ' SP', 704: ' TAB', 705: ' LT', 706: ' TV', 702: ' HumanNode', 708: ' TAB', 709: ' LT', 707: ' HumanNode', 711: ' SP', 712: ' TAB', 710: ' HumanNode', 714: ' SP', 715: ' TAB', 716: ' LT', 713: ' HumanNode', 718: ' SP', 719: ' TAB', 720: ' LT', 721: ' TV', 717: ' HumanNode', 723: ' SP', 724: ' TAB', 725: ' SW', 722: ' HumanNode', 727: ' TAB', 728: ' LT', 726: ' HumanNode', 730: ' SP', 731: ' TAB', 732: ' LT', 729: ' HumanNode', 734: ' SP', 735: ' TAB', 736: ' LT', 737: ' TV', 733: ' HumanNode', 739: ' SP', 740: ' TAB', 741: ' SW', 742: ' LT', 743: ' TV', 738: ' HumanNode', 745: ' SP', 746: ' TAB', 747: ' LT', 744: ' HumanNode', 749: ' SP', 750: ' TAB', 748: ' HumanNode', 752: ' SP', 753: ' TAB', 754: ' TV', 751: ' HumanNode', 756: ' SP', 757: ' TAB', 758: ' TV', 755: ' HumanNode', 760: ' TAB', 761: ' LT', 759: ' HumanNode', 763: ' SP', 764: ' TAB', 765: ' LT', 766: ' TV', 762: ' HumanNode', 768: ' SP', 769: ' TAB', 770: ' LT', 771: ' CON', 767: ' HumanNode', 773: ' SP', 774: ' TAB', 775: ' SW', 776: ' TV', 777: ' CON', 772: ' HumanNode', 779: ' SP', 780: ' TAB', 781: ' LT', 782: ' TV', 778: ' HumanNode', 784: ' SP', 785: ' LT', 783: ' HumanNode', 787: ' SP', 788: ' TAB', 789: ' LT', 790: ' CON', 786: ' HumanNode', 792: ' SP', 793: ' TAB', 791: ' HumanNode', 795: ' SP', 796: ' TAB', 797: ' LT', 798: ' TV', 799: ' CON', 794: ' HumanNode', 801: ' SP', 802: ' TAB', 803: ' LT', 804: ' TV', 805: ' CON', 800: ' HumanNode', 807: ' SP', 808: ' TAB', 806: ' HumanNode', 810: ' SP', 811: ' TAB', 812: ' LT', 813: ' TV', 809: ' HumanNode', 815: ' SP', 816: ' TAB', 817: ' SW', 814: ' HumanNode', 819: ' SP', 820: ' TAB', 821: ' LT', 818: ' HumanNode', 823: ' SP', 824: ' TAB', 825: ' LT', 826: ' TV', 822: ' HumanNode', 828: ' SP', 829: ' TAB', 830: ' LT', 831: ' TV', 827: ' HumanNode', 833: ' SP', 834: ' TAB', 835: ' LT', 832: ' HumanNode', 837: ' SP', 838: ' TAB', 839: ' LT', 840: ' CON', 836: ' HumanNode', 842: ' SP', 843: ' TAB', 844: ' LT', 845: ' TV', 841: ' HumanNode', 847: ' SP', 848: ' TAB', 849: ' LT', 846: ' HumanNode', 851: ' SP', 852: ' TAB', 853: ' LT', 854: ' TV', 850: ' HumanNode', 856: ' SP', 857: ' TAB', 858: ' LT', 855: ' HumanNode', 860: ' SP', 861: ' TAB', 862: ' LT', 859: ' HumanNode', 864: ' SP', 865: ' TAB', 866: ' LT', 863: ' HumanNode', 868: ' SP', 869: ' TAB', 870: ' LT', 871: ' TV', 867: ' HumanNode', 873: ' SP', 874: ' TAB', 875: ' TV', 872: ' HumanNode', 877: ' SP', 878: ' TAB', 879: ' SW', 880: ' LT', 881: ' TV', 876: ' HumanNode', 883: ' SP', 884: ' TAB', 885: ' SW', 886: ' TV', 887: ' CON', 882: ' HumanNode', 889: ' SP', 890: ' TAB', 888: ' HumanNode', 892: ' SP', 893: ' TAB', 894: ' LT', 891: ' HumanNode', 896: ' SP', 897: ' TAB', 898: ' LT', 895: ' HumanNode', 900: ' SP', 901: ' TAB', 902: ' SW', 899: ' HumanNode', 904: ' SP', 905: ' TAB', 906: ' LT', 907: ' TV', 908: ' CON', 903: ' HumanNode', 910: ' SP', 911: ' TAB', 909: ' HumanNode', 913: ' SP', 914: ' TAB', 915: ' CON', 912: ' HumanNode', 917: ' SP', 918: ' TAB', 919: ' LT', 920: ' TV', 916: ' HumanNode', 922: ' SP', 923: ' TAB', 921: ' HumanNode', 925: ' SP', 926: ' TAB', 927: ' LT', 928: ' CON', 924: ' HumanNode', 930: ' SP', 931: ' TAB', 932: ' LT', 929: ' HumanNode', 934: ' TAB', 935: ' LT', 933: ' HumanNode', 937: ' SP', 938: ' TAB', 939: ' LT', 940: ' TV', 941: ' CON', 936: ' HumanNode', 943: ' SP', 944: ' TAB', 945: ' LT', 946: ' TV', 942: ' HumanNode', 948: ' SP', 949: ' TAB', 950: ' SW', 951: ' LT', 952: ' TV', 947: ' HumanNode', 954: ' SP', 955: ' TAB', 956: ' CON', 953: ' HumanNode', 958: ' TAB', 959: ' LT', 960: ' CON', 957: ' HumanNode', 962: ' SP', 963: ' TAB', 964: ' CON', 961: ' HumanNode', 966: ' SP', 967: ' TAB', 968: ' LT', 965: ' HumanNode', 970: ' SP', 971: ' TAB', 972: ' TV', 973: ' CON', 969: ' HumanNode', 975: ' SP', 976: ' TAB', 977: ' LT', 974: ' HumanNode', 979: ' SP', 980: ' TAB', 981: ' LT', 978: ' HumanNode', 983: ' SP', 984: ' TAB', 985: ' LT', 982: ' HumanNode', 987: ' SP', 988: ' TAB', 989: ' LT', 990: ' TV', 991: ' CON', 986: ' HumanNode', 993: ' SP', 994: ' TAB', 992: ' HumanNode', 996: ' SP', 997: ' TAB', 998: ' TV', 995: ' HumanNode', 1000: ' SP', 1001: ' TAB', 1002: ' SW', 999: ' HumanNode', 1004: ' SP', 1005: ' TAB', 1003: ' HumanNode', 1007: ' SP', 1008: ' TAB', 1009: ' LT', 1010: ' TV', 1006: ' HumanNode', 1012: ' SP', 1013: ' TAB', 1014: ' LT', 1015: ' TV', 1011: ' HumanNode', 1017: ' SP', 1018: ' TAB', 1019: ' SW', 1020: ' LT', 1021: ' TV', 1016: ' HumanNode', 1023: ' SP', 1024: ' TAB', 1022: ' HumanNode', 1026: ' SP', 1027: ' TAB', 1028: ' LT', 1029: ' TV', 1025: ' HumanNode', 1031: ' SP', 1032: ' TAB', 1030: ' HumanNode', 1034: ' SP', 1035: ' TAB', 1036: ' LT', 1037: ' TV', 1033: ' HumanNode', 1039: ' SP', 1040: ' TAB', 1041: ' LT', 1042: ' TV', 1038: ' HumanNode', 1044: ' SP', 1045: ' TAB', 1046: ' SW', 1047: ' LT', 1048: ' TV', 1043: ' HumanNode', 1050: ' SP', 1051: ' TAB', 1052: ' LT', 1053: ' TV', 1049: ' HumanNode', 1055: ' SP', 1056: ' TAB', 1057: ' SW', 1058: ' LT', 1054: ' HumanNode', 1060: ' TAB', 1061: ' SW', 1059: ' HumanNode', 1063: ' SP', 1064: ' TAB', 1065: ' LT', 1066: ' TV', 1062: ' HumanNode', 1068: ' SP', 1069: ' TAB', 1070: ' LT', 1067: ' HumanNode', 1072: ' SP', 1073: ' TAB', 1074: ' LT', 1071: ' HumanNode', 1076: ' SP', 1077: ' TAB', 1078: ' LT', 1075: ' HumanNode', 1080: ' SP', 1081: ' LT', 1082: ' TV', 1083: ' CON', 1079: ' HumanNode', 1085: ' SP', 1086: ' TAB', 1084: ' HumanNode', 1088: ' SP', 1089: ' TAB', 1087: ' HumanNode', 1091: ' SP', 1092: ' TAB', 1093: ' SW', 1094: ' LT', 1090: ' HumanNode', 1096: ' SP', 1097: ' TAB', 1098: ' LT', 1099: ' CON', 1095: ' HumanNode', 1101: ' SP', 1102: ' TAB', 1103: ' SW', 1104: ' TV', 1105: ' CON', 1100: ' HumanNode', 1107: ' TAB', 1108: ' TV', 1106: ' HumanNode', 1110: ' SP', 1111: ' LT', 1109: ' HumanNode', 1113: ' SP', 1114: ' TAB', 1115: ' SW', 1116: ' LT', 1117: ' TV', 1112: ' HumanNode', 1119: ' SP', 1120: ' TAB', 1121: ' LT', 1122: ' TV', 1118: ' HumanNode', 1124: ' SP', 1125: ' TAB', 1126: ' TV', 1123: ' HumanNode', 1128: ' SP', 1129: ' TAB', 1130: ' LT', 1127: ' HumanNode', 1132: ' SP', 1133: ' TAB', 1134: ' SW', 1135: ' LT', 1136: ' CON', 1131: ' HumanNode', 1138: ' SP', 1139: ' LT', 1137: ' HumanNode', 1141: ' SP', 1142: ' TAB', 1140: ' HumanNode', 1144: ' TAB', 1145: ' TV', 1143: ' HumanNode', 1147: ' SP', 1148: ' TAB', 1146: ' HumanNode', 1150: ' SP', 1151: ' TAB', 1152: ' LT', 1153: ' CON', 1149: ' HumanNode', 1155: ' SP', 1156: ' TAB', 1154: ' HumanNode', 1158: ' SP', 1159: ' TAB', 1160: ' LT', 1157: ' HumanNode', 1162: ' SP', 1163: ' LT', 1161: ' HumanNode', 1165: ' SP', 1166: ' TAB', 1167: ' CON', 1164: ' HumanNode', 1169: ' SP', 1170: ' TAB', 1168: ' HumanNode', 1172: ' SP', 1173: ' TAB', 1174: ' LT', 1171: ' HumanNode', 1176: ' SP', 1177: ' TAB', 1178: ' SW', 1179: ' LT', 1175: ' HumanNode', 1181: ' SP', 1182: ' TAB', 1183: ' SW', 1180: ' HumanNode', 1185: ' SP', 1186: ' SW', 1184: ' HumanNode', 1188: ' SP', 1189: ' TAB', 1190: ' LT', 1187: ' HumanNode', 1192: ' SP', 1193: ' TV', 1191: ' HumanNode', 1195: ' SP', 1196: ' TAB', 1197: ' LT', 1198: ' TV', 1194: ' HumanNode', 1200: ' SP', 1201: ' TAB', 1202: ' LT', 1203: ' CON', 1199: ' HumanNode', 1205: ' SP', 1206: ' TAB', 1207: ' TV', 1204: ' HumanNode', 1209: ' SP', 1210: ' TAB', 1211: ' LT', 1212: ' CON', 1208: ' HumanNode', 1214: ' SP', 1215: ' TAB', 1216: ' LT', 1217: ' TV', 1218: ' CON', 1213: ' HumanNode', 1220: ' SP', 1221: ' TAB', 1219: ' HumanNode', 1223: ' SP', 1224: ' TAB', 1225: ' TV', 1222: ' HumanNode', 1227: ' TAB', 1228: ' TV', 1226: ' HumanNode', 1230: ' SP', 1231: ' LT', 1232: ' TV', 1229: ' HumanNode', 1234: ' SP', 1235: ' TAB', 1236: ' LT', 1237: ' TV', 1238: ' CON', 1233: ' HumanNode', 1240: ' SP', 1241: ' TAB', 1242: ' LT', 1239: ' HumanNode', 1244: ' SP', 1245: ' TAB', 1246: ' LT', 1247: ' TV', 1243: ' HumanNode', 1249: ' SP', 1250: ' TAB', 1248: ' HumanNode', 1252: ' SP', 1253: ' TAB', 1254: ' SW', 1255: ' CON', 1251: ' HumanNode', 1257: ' SP', 1258: ' TAB', 1259: ' LT', 1256: ' HumanNode', 1261: ' SP', 1262: ' TAB', 1263: ' TV', 1264: ' CON', 1260: ' HumanNode', 1266: ' SP', 1267: ' TAB', 1268: ' LT', 1265: ' HumanNode', 1270: ' SP', 1271: ' TAB', 1272: ' LT', 1269: ' HumanNode', 1274: ' SP', 1275: ' TAB', 1276: ' LT', 1277: ' TV', 1273: ' HumanNode', 1279: ' SP', 1280: ' TAB', 1278: ' HumanNode', 1282: ' SP', 1283: ' TAB', 1284: ' LT', 1281: ' HumanNode', 1286: ' SP', 1287: ' TAB', 1288: ' TV', 1285: ' HumanNode', 1290: ' SP', 1291: ' TAB', 1292: ' LT', 1289: ' HumanNode', 1294: ' SP', 1295: ' TAB', 1296: ' TV', 1293: ' HumanNode', 1298: ' SP', 1299: ' TAB', 1300: ' TV', 1297: ' HumanNode', 1302: ' SP', 1303: ' TAB', 1304: ' LT', 1301: ' HumanNode', 1306: ' SP', 1307: ' TAB', 1308: ' TV', 1309: ' CON', 1305: ' HumanNode', 1311: ' SP', 1312: ' TAB', 1310: ' HumanNode', 1314: ' TAB', 1315: ' LT', 1316: ' TV', 1313: ' HumanNode', 1318: ' SP', 1319: ' TAB', 1320: ' LT', 1321: ' TV', 1317: ' HumanNode', 1323: ' SP', 1324: ' TAB', 1325: ' TV', 1322: ' HumanNode', 1327: ' TAB', 1328: ' LT', 1326: ' HumanNode', 1330: ' SP', 1331: ' TAB', 1332: ' CON', 1329: ' HumanNode', 1334: ' SP', 1335: ' TAB', 1336: ' LT', 1337: ' CON', 1333: ' HumanNode', 1339: ' SP', 1340: ' TAB', 1341: ' CON', 1338: ' HumanNode', 1343: ' SP', 1344: ' TAB', 1345: ' LT', 1342: ' HumanNode', 1347: ' SP', 1348: ' TAB', 1349: ' LT', 1350: ' CON', 1346: ' HumanNode', 1352: ' SP', 1353: ' TAB', 1354: ' LT', 1355: ' TV', 1351: ' HumanNode', 1357: ' SP', 1358: ' TAB', 1359: ' LT', 1356: ' HumanNode', 1361: ' SP', 1362: ' TAB', 1363: ' SW', 1364: ' LT', 1360: ' HumanNode', 1366: ' SP', 1367: ' TAB', 1368: ' LT', 1365: ' HumanNode', 1370: ' TAB', 1371: ' SW', 1372: ' LT', 1373: ' TV', 1369: ' HumanNode', 1375: ' SP', 1376: ' TAB', 1377: ' SW', 1378: ' LT', 1374: ' HumanNode', 1380: ' SP', 1381: ' TAB', 1382: ' SW', 1383: ' CON', 1379: ' HumanNode', 1385: ' SP', 1386: ' TAB', 1384: ' HumanNode', 1388: ' TAB', 1389: ' LT', 1390: ' CON', 1387: ' HumanNode', 1392: ' SP', 1393: ' TAB', 1394: ' LT', 1391: ' HumanNode', 1396: ' SP', 1397: ' TAB', 1398: ' LT', 1399: ' TV', 1395: ' HumanNode', 1401: ' SP', 1402: ' TAB', 1403: ' LT', 1404: ' TV', 1400: ' HumanNode', 1406: ' SP', 1407: ' TAB', 1408: ' SW', 1405: ' HumanNode', 1410: ' SP', 1411: ' TAB', 1412: ' SW', 1413: ' LT', 1414: ' TV', 1409: ' HumanNode', 1416: ' SP', 1417: ' TAB', 1418: ' LT', 1419: ' TV', 1420: ' CON', 1415: ' HumanNode', 1422: ' SP', 1423: ' TAB', 1424: ' LT', 1425: ' TV', 1426: ' CON', 1421: ' HumanNode', 1428: ' SP', 1429: ' TAB', 1430: ' SW', 1431: ' TV', 1427: ' HumanNode', 1433: ' SP', 1434: ' TAB', 1435: ' LT', 1436: ' TV', 1432: ' HumanNode', 1438: ' SP', 1439: ' TAB', 1440: ' SW', 1441: ' TV', 1437: ' HumanNode', 1443: ' SP', 1444: ' TAB', 1442: ' HumanNode', 1446: ' SP', 1447: ' TAB', 1448: ' LT', 1449: ' TV', 1450: ' CON', 1445: ' HumanNode', 1452: ' SP', 1453: ' TAB', 1454: ' LT', 1455: ' CON', 1451: ' HumanNode', 1457: ' SP', 1458: ' TAB', 1459: ' LT', 1456: ' HumanNode', 1461: ' SP', 1462: ' TAB', 1463: ' TV', 1460: ' HumanNode', 1465: ' TAB', 1466: ' TV', 1467: ' CON', 1464: ' HumanNode', 1469: ' SP', 1470: ' TAB', 1471: ' SW', 1472: ' LT', 1468: ' HumanNode', 1474: ' SP', 1475: ' TAB', 1476: ' LT', 1473: ' HumanNode', 1478: ' SP', 1479: ' TAB', 1480: ' SW', 1481: ' LT', 1477: ' HumanNode', 1483: ' TAB', 1484: ' LT', 1482: ' HumanNode', 1486: ' SP', 1487: ' TAB', 1488: ' LT', 1485: ' HumanNode', 1490: ' SP', 1491: ' TAB', 1492: ' SW', 1493: ' LT', 1494: ' TV', 1489: ' HumanNode', 1496: ' SP', 1497: ' TAB', 1498: ' LT', 1495: ' HumanNode', 1500: ' SP', 1501: ' TAB', 1502: ' SW', 1499: ' HumanNode', 1504: ' TAB', 1505: ' LT', 1503: ' HumanNode', 1507: ' SP', 1508: ' TAB', 1506: ' HumanNode', 1510: ' SP', 1511: ' TAB', 1512: ' TV', 1509: ' HumanNode', 1514: ' SP', 1515: ' TAB', 1516: ' LT', 1513: ' HumanNode', 1518: ' SP', 1519: ' TAB', 1517: ' HumanNode', 1521: ' SP', 1522: ' TAB', 1523: ' LT', 1520: ' HumanNode', 1525: ' SP', 1526: ' TAB', 1527: ' CON', 1524: ' HumanNode', 1529: ' SP', 1530: ' TAB', 1531: ' SW', 1532: ' TV', 1528: ' HumanNode', 1534: ' SP', 1535: ' TAB', 1536: ' LT', 1537: ' TV', 1533: ' HumanNode', 1539: ' SP', 1540: ' TAB', 1541: ' SW', 1538: ' HumanNode', 1543: ' SP', 1544: ' TAB', 1545: ' SW', 1546: ' LT', 1547: ' TV', 1542: ' HumanNode', 1549: ' SP', 1550: ' TAB', 1551: ' TV', 1548: ' HumanNode', 1553: ' SP', 1554: ' TAB', 1555: ' LT', 1556: ' TV', 1552: ' HumanNode', 1558: ' SP', 1559: ' TAB', 1560: ' LT', 1557: ' HumanNode', 1562: ' SP', 1563: ' TAB', 1561: ' HumanNode', 1565: ' SP', 1566: ' TAB', 1567: ' LT', 1568: ' TV', 1564: ' HumanNode', 1570: ' SP', 1571: ' TAB', 1572: ' TV', 1573: ' CON', 1569: ' HumanNode', 1575: ' SP', 1576: ' TAB', 1577: ' LT', 1574: ' HumanNode', 1579: ' SP', 1580: ' TAB', 1581: ' TV', 1578: ' HumanNode', 1583: ' SP', 1584: ' TAB', 1585: ' LT', 1586: ' TV', 1582: ' HumanNode', 1588: ' TAB', 1589: ' LT', 1587: ' HumanNode', 1591: ' SW', 1592: ' LT', 1590: ' HumanNode', 1594: ' SP', 1595: ' TAB', 1596: ' LT', 1597: ' CON', 1593: ' HumanNode', 1599: ' SP', 1600: ' TAB', 1601: ' LT', 1602: ' TV', 1598: ' HumanNode', 1604: ' SP', 1605: ' TAB', 1606: ' LT', 1607: ' CON', 1603: ' HumanNode', 1609: ' SP', 1610: ' TAB', 1608: ' HumanNode', 1612: ' SP', 1613: ' TAB', 1614: ' LT', 1615: ' TV', 1611: ' HumanNode', 1617: ' SP', 1618: ' TAB', 1619: ' LT', 1616: ' HumanNode', 1621: ' TAB', 1620: ' HumanNode', 1623: ' SP', 1624: ' TAB', 1625: ' LT', 1626: ' TV', 1622: ' HumanNode', 1628: ' SP', 1629: ' TAB', 1630: ' LT', 1627: ' HumanNode', 1632: ' TAB', 1633: ' TV', 1631: ' HumanNode', 1635: ' SP', 1636: ' TAB', 1637: ' LT', 1638: ' CON', 1634: ' HumanNode', 1640: ' SP', 1641: ' TAB', 1642: ' LT', 1639: ' HumanNode', 1644: ' SP', 1645: ' TAB', 1646: ' TV', 1643: ' HumanNode', 1648: ' SP', 1649: ' LT', 1650: ' TV', 1647: ' HumanNode', 1652: ' SP', 1653: ' TAB', 1654: ' LT', 1655: ' CON', 1651: ' HumanNode', 1657: ' TAB', 1658: ' LT', 1659: ' TV', 1660: ' CON', 1656: ' HumanNode', 1662: ' SP', 1663: ' TAB', 1664: ' LT', 1661: ' HumanNode', 1666: ' SP', 1667: ' TAB', 1668: ' LT', 1669: ' TV', 1665: ' HumanNode', 1671: ' SP', 1672: ' TAB', 1673: ' TV', 1670: ' HumanNode', 1675: ' SP', 1676: ' TAB', 1677: ' LT', 1678: ' TV', 1679: ' CON', 1674: ' HumanNode', 1681: ' SP', 1682: ' TAB', 1683: ' LT', 1680: ' HumanNode', 1685: ' SP', 1686: ' TAB', 1684: ' HumanNode', 1688: ' SP', 1689: ' TAB', 1690: ' LT', 1687: ' HumanNode', 1692: ' SP', 1693: ' TAB', 1694: ' LT', 1691: ' HumanNode', 1696: ' SP', 1697: ' TAB', 1698: ' SW', 1699: ' LT', 1695: ' HumanNode', 1701: ' SP', 1702: ' TAB', 1700: ' HumanNode', 1704: ' SP', 1705: ' TAB', 1706: ' TV', 1703: ' HumanNode', 1708: ' SP', 1709: ' TAB', 1707: ' HumanNode', 1711: ' SP', 1712: ' TAB', 1713: ' SW', 1714: ' LT', 1710: ' HumanNode', 1716: ' SP', 1717: ' TAB', 1718: ' LT', 1719: ' TV', 1715: ' HumanNode', 1721: ' SP', 1722: ' LT', 1720: ' HumanNode', 1724: ' SP', 1725: ' TAB', 1726: ' LT', 1723: ' HumanNode', 1728: ' SP', 1729: ' TAB', 1730: ' LT', 1731: ' TV', 1727: ' HumanNode', 1733: ' SP', 1734: ' TAB', 1732: ' HumanNode', 1736: ' SP', 1737: ' TAB', 1738: ' LT', 1739: ' TV', 1740: ' CON', 1735: ' HumanNode', 1742: ' SP', 1743: ' TAB', 1744: ' LT', 1741: ' HumanNode', 1746: ' SP', 1745: ' HumanNode', 1748: ' SP', 1749: ' TAB', 1750: ' TV', 1747: ' HumanNode', 1752: ' SP', 1753: ' TAB', 1754: ' LT', 1751: ' HumanNode', 1756: ' SP', 1757: ' TAB', 1758: ' TV', 1755: ' HumanNode', 1760: ' SP', 1761: ' TAB', 1762: ' LT', 1763: ' TV', 1759: ' HumanNode', 1765: ' SP', 1766: ' TAB', 1767: ' SW', 1768: ' LT', 1764: ' HumanNode', 1770: ' SP', 1771: ' TAB', 1772: ' SW', 1773: ' LT', 1769: ' HumanNode', 1775: ' SP', 1776: ' TAB', 1777: ' LT', 1778: ' TV', 1774: ' HumanNode', 1780: ' SP', 1781: ' TAB', 1779: ' HumanNode', 1783: ' SP', 1784: ' TAB', 1785: ' LT', 1782: ' HumanNode', 1787: ' SP', 1788: ' TAB', 1789: ' LT', 1790: ' TV', 1786: ' HumanNode', 1792: ' SP', 1793: ' TAB', 1794: ' TV', 1791: ' HumanNode', 1796: ' SP', 1797: ' TAB', 1798: ' LT', 1799: ' TV', 1795: ' HumanNode', 1801: ' SP', 1802: ' TAB', 1803: ' LT', 1800: ' HumanNode', 1805: ' SP', 1806: ' TAB', 1807: ' LT', 1808: ' TV', 1809: ' CON', 1804: ' HumanNode', 1811: ' SP', 1812: ' TAB', 1813: ' SW', 1814: ' LT', 1815: ' TV', 1810: ' HumanNode', 1817: ' SP', 1818: ' TAB', 1819: ' LT', 1820: ' TV', 1816: ' HumanNode', 1822: ' SP', 1823: ' TAB', 1824: ' LT', 1821: ' HumanNode', 1826: ' SP', 1827: ' TAB', 1828: ' LT', 1829: ' TV', 1825: ' HumanNode', 1831: ' SP', 1832: ' TAB', 1833: ' CON', 1830: ' HumanNode', 1835: ' SP', 1836: ' TAB', 1837: ' TV', 1834: ' HumanNode', 1839: ' SP', 1840: ' TAB', 1841: ' SW', 1842: ' LT', 1838: ' HumanNode', 1844: ' SP', 1845: ' TAB', 1846: ' SW', 1847: ' LT', 1843: ' HumanNode', 1849: ' SP', 1850: ' TAB', 1851: ' LT', 1852: ' TV', 1848: ' HumanNode', 1854: ' SP', 1855: ' TAB', 1856: ' LT', 1857: ' TV', 1853: ' HumanNode', 1859: ' SP', 1860: ' TAB', 1861: ' CON', 1858: ' HumanNode', 1863: ' SP', 1864: ' TAB', 1865: ' LT', 1866: ' CON', 1862: ' HumanNode', 1868: ' SP', 1869: ' TAB', 1870: ' LT', 1867: ' HumanNode', 1872: ' SP', 1873: ' TAB', 1874: ' LT', 1875: ' CON', 1871: ' HumanNode', 1877: ' SP', 1878: ' TAB', 1879: ' LT', 1876: ' HumanNode', 1881: ' SP', 1882: ' TAB', 1883: ' LT', 1880: ' HumanNode', 1885: ' SP', 1886: ' TAB', 1887: ' LT', 1884: ' HumanNode', 1889: ' SP', 1890: ' TAB', 1888: ' HumanNode', 1892: ' SP', 1893: ' TAB', 1894: ' LT', 1895: ' CON', 1891: ' HumanNode', 1897: ' SP', 1898: ' TAB', 1899: ' LT', 1896: ' HumanNode', 1901: ' SP', 1902: ' TAB', 1903: ' LT', 1900: ' HumanNode', 1905: ' SP', 1906: ' TAB', 1907: ' LT', 1904: ' HumanNode', 1909: ' SP', 1910: ' TAB', 1911: ' LT', 1912: ' TV', 1908: ' HumanNode', 1914: ' SP', 1915: ' TAB', 1916: ' SW', 1917: ' LT', 1913: ' HumanNode', 1919: ' SP', 1920: ' TAB', 1921: ' LT', 1922: ' TV', 1918: ' HumanNode', 1924: ' SP', 1925: ' LT', 1926: ' TV', 1923: ' HumanNode', 1928: ' SP', 1929: ' TAB', 1930: ' LT', 1927: ' HumanNode', 1932: ' SP', 1933: ' LT', 1934: ' TV', 1935: ' CON', 1931: ' HumanNode', 1937: ' SP', 1938: ' TAB', 1936: ' HumanNode', 1940: ' SP', 1941: ' TAB', 1942: ' SW', 1943: ' LT', 1939: ' HumanNode', 1945: ' SP', 1946: ' TAB', 1947: ' LT', 1944: ' HumanNode', 1949: ' SP', 1950: ' TAB', 1948: ' HumanNode', 1952: ' SP', 1953: ' TAB', 1954: ' LT', 1951: ' HumanNode', 1956: ' SP', 1957: ' TAB', 1958: ' LT', 1955: ' HumanNode', 1960: ' SP', 1961: ' TAB', 1959: ' HumanNode', 1963: ' SP', 1964: ' TAB', 1962: ' HumanNode', 1966: ' SP', 1967: ' TAB', 1965: ' HumanNode', 1969: ' SP', 1970: ' TAB', 1968: ' HumanNode', 1972: ' TAB', 1973: ' TV', 1971: ' HumanNode', 1975: ' SP', 1976: ' TAB', 1977: ' LT', 1978: ' CON', 1974: ' HumanNode', 1980: ' SP', 1981: ' TAB', 1982: ' LT', 1983: ' TV', 1979: ' HumanNode', 1985: ' SP', 1986: ' TAB', 1987: ' LT', 1988: ' TV', 1989: ' CON', 1984: ' HumanNode', 1991: ' SP', 1992: ' TAB', 1993: ' LT', 1994: ' TV', 1990: ' HumanNode', 1996: ' SP', 1997: ' TAB', 1995: ' HumanNode', 1999: ' SP', 2000: ' TAB', 2001: ' LT', 2002: ' TV', 2003: ' CON', 1998: ' HumanNode', 2005: ' TAB', 2006: ' LT', 2007: ' TV', 2004: ' HumanNode', 2009: ' SP', 2010: ' TAB', 2011: ' SW', 2012: ' LT', 2013: ' TV', 2008: ' HumanNode', 2015: ' SP', 2016: ' TAB', 2017: ' SW', 2018: ' LT', 2014: ' HumanNode', 2020: ' SP', 2021: ' TAB', 2022: ' LT', 2023: ' TV', 2019: ' HumanNode', 2025: ' SP', 2026: ' LT', 2024: ' HumanNode', 2028: ' SP', 2029: ' TAB', 2030: ' LT', 2027: ' HumanNode', 2032: ' SP', 2033: ' TAB', 2034: ' LT', 2031: ' HumanNode', 2036: ' SP', 2037: ' TAB', 2038: ' LT', 2035: ' HumanNode', 2040: ' SP', 2041: ' TAB', 2042: ' LT', 2043: ' TV', 2039: ' HumanNode', 2045: ' SP', 2046: ' TAB', 2047: ' LT', 2048: ' TV', 2044: ' HumanNode', 2050: ' SP', 2051: ' TAB', 2052: ' LT', 2053: ' TV', 2049: ' HumanNode', 2055: ' SP', 2056: ' TAB', 2057: ' LT', 2054: ' HumanNode', 2059: ' SP', 2060: ' TAB', 2061: ' TV', 2058: ' HumanNode', 2063: ' TAB', 2064: ' LT', 2065: ' TV', 2066: ' CON', 2062: ' HumanNode', 2068: ' SP', 2069: ' TAB', 2070: ' SW', 2071: ' TV', 2067: ' HumanNode', 2073: ' TAB', 2074: ' LT', 2075: ' TV', 2072: ' HumanNode', 2077: ' SP', 2078: ' TAB', 2079: ' SW', 2076: ' HumanNode', 2081: ' SP', 2082: ' TAB', 2083: ' TV', 2080: ' HumanNode', 2085: ' SP', 2086: ' TAB', 2084: ' HumanNode', 2088: ' SP', 2089: ' TAB', 2090: ' LT', 2087: ' HumanNode', 2092: ' SP', 2093: ' TAB', 2094: ' LT', 2095: ' TV', 2091: ' HumanNode', 2097: ' SP', 2098: ' TAB', 2099: ' LT', 2096: ' HumanNode', 2101: ' SP', 2102: ' TAB', 2100: ' HumanNode', 2104: ' SP', 2105: ' TAB', 2106: ' TV', 2103: ' HumanNode', 2108: ' SP', 2109: ' TAB', 2110: ' TV', 2107: ' HumanNode', 2112: ' SP', 2113: ' TAB', 2114: ' LT', 2115: ' CON', 2111: ' HumanNode', 2117: ' SP', 2118: ' TAB', 2119: ' LT', 2116: ' HumanNode', 2121: ' SP', 2122: ' TAB', 2123: ' LT', 2124: ' TV', 2125: ' CON', 2120: ' HumanNode', 2127: ' SP', 2128: ' TAB', 2129: ' TV', 2126: ' HumanNode', 2131: ' SP', 2132: ' TAB', 2130: ' HumanNode', 2134: ' SP', 2135: ' TAB', 2136: ' LT', 2133: ' HumanNode', 2138: ' SP', 2139: ' TAB', 2137: ' HumanNode', 2141: ' SP', 2142: ' TAB', 2143: ' LT', 2140: ' HumanNode', 2145: ' SP', 2146: ' TAB', 2147: ' TV', 2144: ' HumanNode', 2149: ' SP', 2150: ' TAB', 2151: ' LT', 2152: ' TV', 2148: ' HumanNode', 2154: ' SP', 2155: ' TAB', 2153: ' HumanNode', 2157: ' SP', 2158: ' TAB', 2159: ' LT', 2160: ' TV', 2156: ' HumanNode', 2162: ' SP', 2163: ' TAB', 2164: ' LT', 2165: ' TV', 2161: ' HumanNode', 2167: ' SP', 2168: ' TAB', 2169: ' LT', 2166: ' HumanNode', 2171: ' SP', 2172: ' TAB', 2173: ' SW', 2174: ' LT', 2175: ' TV', 2170: ' HumanNode', 2177: ' SP', 2178: ' TAB', 2179: ' CON', 2176: ' HumanNode', 2181: ' SP', 2182: ' TAB', 2183: ' TV', 2180: ' HumanNode', 2185: ' SP', 2186: ' TAB', 2187: ' SW', 2188: ' TV', 2184: ' HumanNode', 2190: ' SP', 2191: ' TAB', 2192: ' TV', 2189: ' HumanNode', 2194: ' TAB', 2195: ' LT', 2193: ' HumanNode', 2197: ' SP', 2198: ' TAB', 2199: ' LT', 2200: ' TV', 2196: ' HumanNode', 2202: ' SP', 2203: ' TAB', 2204: ' LT', 2205: ' CON', 2201: ' HumanNode', 2207: ' SP', 2208: ' TAB', 2209: ' LT', 2210: ' CON', 2206: ' HumanNode', 2212: ' SP', 2213: ' TAB', 2214: ' LT', 2211: ' HumanNode', 2216: ' SP', 2217: ' TAB', 2218: ' CON', 2215: ' HumanNode', 2220: ' SP', 2221: ' TAB', 2222: ' LT', 2223: ' TV', 2219: ' HumanNode', 2225: ' SP', 2226: ' TAB', 2227: ' TV', 2228: ' CON', 2224: ' HumanNode', 2230: ' SP', 2231: ' TAB', 2229: ' HumanNode', 2233: ' SP', 2234: ' TAB', 2235: ' LT', 2232: ' HumanNode', 2237: ' SP', 2238: ' LT', 2239: ' TV', 2240: ' CON', 2236: ' HumanNode', 2242: ' SP', 2243: ' TAB', 2244: ' TV', 2241: ' HumanNode', 2246: ' SP', 2247: ' TAB', 2245: ' HumanNode', 2249: ' SP', 2250: ' TAB', 2251: ' LT', 2248: ' HumanNode', 2253: ' SP', 2254: ' TAB', 2255: ' LT', 2252: ' HumanNode', 2257: ' SP', 2258: ' TAB', 2259: ' LT', 2256: ' HumanNode', 2261: ' SP', 2262: ' TAB', 2263: ' LT', 2264: ' CON', 2260: ' HumanNode', 2266: ' SP', 2267: ' TAB', 2268: ' SW', 2269: ' CON', 2265: ' HumanNode', 2271: ' SP', 2272: ' LT', 2270: ' HumanNode', 2274: ' SP', 2275: ' TAB', 2276: ' LT', 2277: ' TV', 2273: ' HumanNode', 2279: ' SP', 2280: ' TAB', 2278: ' HumanNode', 2282: ' SP', 2283: ' TAB', 2284: ' LT', 2281: ' HumanNode', 2286: ' SP', 2287: ' TAB', 2288: ' SW', 2289: ' TV', 2285: ' HumanNode', 2291: ' SP', 2292: ' TAB', 2290: ' HumanNode', 2294: ' SP', 2295: ' TAB', 2296: ' LT', 2293: ' HumanNode', 2298: ' SP', 2299: ' TAB', 2300: ' LT', 2301: ' TV', 2297: ' HumanNode', 2303: ' SP', 2304: ' TAB', 2305: ' LT', 2302: ' HumanNode', 2307: ' SP', 2308: ' TAB', 2309: ' LT', 2306: ' HumanNode', 2311: ' SP', 2312: ' TAB', 2313: ' LT', 2310: ' HumanNode', 2315: ' SP', 2316: ' TAB', 2317: ' SW', 2318: ' LT', 2319: ' CON', 2314: ' HumanNode', 2321: ' SP', 2322: ' TAB', 2323: ' LT', 2320: ' HumanNode', 2325: ' SP', 2326: ' TAB', 2327: ' LT', 2324: ' HumanNode', 2329: ' SP', 2330: ' TAB', 2331: ' LT', 2332: ' CON', 2328: ' HumanNode', 2334: ' SP', 2335: ' TAB', 2336: ' LT', 2333: ' HumanNode', 2338: ' SP', 2339: ' TAB', 2340: ' LT', 2341: ' TV', 2337: ' HumanNode', 2343: ' TAB', 2344: ' LT', 2342: ' HumanNode', 2346: ' SP', 2347: ' TAB', 2348: ' SW', 2349: ' LT', 2350: ' TV', 2345: ' HumanNode', 2352: ' SP', 2353: ' TAB', 2354: ' LT', 2355: ' TV', 2351: ' HumanNode', 2357: ' SP', 2358: ' TAB', 2359: ' SW', 2360: ' LT', 2356: ' HumanNode', 2362: ' SP', 2363: ' TAB', 2364: ' LT', 2361: ' HumanNode', 2366: ' SP', 2367: ' LT', 2368: ' CON', 2365: ' HumanNode', 2370: ' SP', 2371: ' TAB', 2372: ' LT', 2369: ' HumanNode', 2374: ' SP', 2375: ' TAB', 2376: ' LT', 2373: ' HumanNode', 2378: ' SP', 2379: ' TAB', 2377: ' HumanNode', 2381: ' SP', 2382: ' TAB', 2383: ' SW', 2380: ' HumanNode', 2385: ' SP', 2386: ' TAB', 2387: ' LT', 2384: ' HumanNode', 2389: ' SP', 2390: ' TAB', 2391: ' TV', 2388: ' HumanNode', 2393: ' SP', 2394: ' TAB', 2392: ' HumanNode', 2396: ' SP', 2397: ' TAB', 2398: ' CON', 2395: ' HumanNode', 2400: ' SP', 2401: ' TAB', 2399: ' HumanNode', 2403: ' SP', 2404: ' TAB', 2405: ' TV', 2406: ' CON', 2402: ' HumanNode', 2408: ' SP', 2409: ' TAB', 2410: ' SW', 2407: ' HumanNode', 2412: ' SP', 2413: ' TAB', 2414: ' LT', 2411: ' HumanNode', 2416: ' SP', 2417: ' TAB', 2418: ' LT', 2419: ' TV', 2415: ' HumanNode', 2421: ' SP', 2422: ' TAB', 2420: ' HumanNode', 2424: ' SP', 2425: ' TAB', 2426: ' TV', 2423: ' HumanNode', 2428: ' SP', 2429: ' LT', 2430: ' CON', 2427: ' HumanNode', 2432: ' SP', 2433: ' TAB', 2434: ' LT', 2431: ' HumanNode', 2436: ' SP', 2437: ' TAB', 2438: ' TV', 2435: ' HumanNode', 2440: ' SP', 2441: ' TAB', 2442: ' SW', 2443: ' LT', 2444: ' TV', 2439: ' HumanNode', 2446: ' SP', 2447: ' TAB', 2448: ' LT', 2449: ' TV', 2445: ' HumanNode', 2451: ' SP', 2452: ' TAB', 2453: ' TV', 2450: ' HumanNode', 2455: ' SP', 2456: ' TAB', 2457: ' LT', 2454: ' HumanNode', 2459: ' SP', 2460: ' TAB', 2461: ' LT', 2458: ' HumanNode', 2463: ' SP', 2464: ' TAB', 2465: ' TV', 2466: ' CON', 2462: ' HumanNode', 2468: ' SP', 2469: ' TAB', 2470: ' LT', 2467: ' HumanNode', 2472: ' TAB', 2473: ' LT', 2471: ' HumanNode', 2475: ' SP', 2476: ' TAB', 2477: ' LT', 2478: ' TV', 2474: ' HumanNode', 2480: ' SP', 2481: ' TAB', 2482: ' SW', 2483: ' LT', 2484: ' CON', 2479: ' HumanNode', 2486: ' SP', 2487: ' LT', 2488: ' TV', 2489: ' CON', 2485: ' HumanNode', 2491: ' SP', 2492: ' TAB', 2493: ' SW', 2494: ' LT', 2495: ' CON', 2490: ' HumanNode', 2497: ' SP', 2498: ' TAB', 2499: ' LT', 2500: ' TV', 2496: ' HumanNode', 2502: ' SP', 2503: ' TAB', 2501: ' HumanNode', 2505: ' SP', 2506: ' TAB', 2504: ' HumanNode', 2508: ' SP', 2509: ' TAB', 2510: ' LT', 2507: ' HumanNode', 2512: ' SP', 2513: ' TAB', 2514: ' LT', 2511: ' HumanNode', 2516: ' SP', 2517: ' TAB', 2518: ' LT', 2519: ' CON', 2515: ' HumanNode', 2521: ' SP', 2522: ' TAB', 2523: ' LT', 2520: ' HumanNode', 2525: ' SP', 2526: ' TAB', 2524: ' HumanNode', 2528: ' SP', 2529: ' TAB', 2527: ' HumanNode', 2531: ' SP', 2532: ' TAB', 2533: ' LT', 2534: ' TV', 2530: ' HumanNode', 2536: ' SP', 2537: ' TAB', 2538: ' LT', 2539: ' TV', 2535: ' HumanNode', 2541: ' TAB', 2542: ' CON', 2540: ' HumanNode', 2544: ' SP', 2545: ' TAB', 2543: ' HumanNode', 2547: ' SP', 2548: ' TAB', 2549: ' LT', 2546: ' HumanNode', 2551: ' SP', 2552: ' TAB', 2553: ' TV', 2550: ' HumanNode', 2555: ' SP', 2556: ' TAB', 2557: ' SW', 2558: ' LT', 2554: ' HumanNode', 2560: ' SP', 2561: ' TAB', 2562: ' LT', 2559: ' HumanNode', 2564: ' SP', 2565: ' TAB', 2566: ' LT', 2563: ' HumanNode', 2568: ' SP', 2569: ' TAB', 2570: ' LT', 2567: ' HumanNode', 2572: ' SP', 2573: ' TAB', 2574: ' LT', 2571: ' HumanNode', 2576: ' SP', 2577: ' TAB', 2575: ' HumanNode', 2579: ' SP', 2580: ' TAB', 2581: ' LT', 2578: ' HumanNode', 2583: ' SP', 2584: ' TAB', 2585: ' SW', 2582: ' HumanNode', 2587: ' SP', 2588: ' TAB', 2589: ' LT', 2586: ' HumanNode', 2591: ' SP', 2592: ' TAB', 2593: ' LT', 2590: ' HumanNode', 2595: ' SP', 2596: ' TAB', 2597: ' TV', 2594: ' HumanNode', 2599: ' SP', 2600: ' TAB', 2601: ' TV', 2598: ' HumanNode', 2603: ' SP', 2604: ' TAB', 2605: ' CON', 2602: ' HumanNode', 2607: ' SP', 2608: ' TAB', 2609: ' LT', 2606: ' HumanNode', 2611: ' SP', 2612: ' TAB', 2613: ' LT', 2614: ' TV', 2610: ' HumanNode', 2616: ' TAB', 2617: ' LT', 2615: ' HumanNode', 2619: ' SP', 2620: ' LT', 2621: ' CON', 2618: ' HumanNode', 2623: ' SP', 2624: ' TAB', 2622: ' HumanNode', 2626: ' SP', 2627: ' TAB', 2628: ' SW', 2629: ' LT', 2630: ' TV', 2625: ' HumanNode', 2632: ' SP', 2633: ' TAB', 2634: ' LT', 2635: ' TV', 2631: ' HumanNode', 2637: ' SP', 2638: ' TAB', 2639: ' LT', 2636: ' HumanNode', 2641: ' SP', 2642: ' TAB', 2643: ' CON', 2640: ' HumanNode', 2645: ' SP', 2646: ' TAB', 2647: ' LT', 2648: ' CON', 2644: ' HumanNode', 2650: ' SP', 2651: ' TAB', 2649: ' HumanNode', 2653: ' SP', 2654: ' SW', 2655: ' LT', 2652: ' HumanNode', 2657: ' SP', 2658: ' LT', 2659: ' TV', 2656: ' HumanNode', 2661: ' TAB', 2660: ' HumanNode', 2663: ' SP', 2664: ' TAB', 2665: ' LT', 2666: ' CON', 2662: ' HumanNode', 2668: ' SP', 2669: ' TAB', 2670: ' LT', 2671: ' TV', 2667: ' HumanNode', 2673: ' SP', 2674: ' LT', 2672: ' HumanNode', 2676: ' SP', 2677: ' LT', 2675: ' HumanNode', 2679: ' SP', 2680: ' TAB', 2681: ' CON', 2678: ' HumanNode', 2683: ' SP', 2684: ' TAB', 2682: ' HumanNode', 2686: ' SP', 2687: ' TAB', 2688: ' TV', 2689: ' CON', 2685: ' HumanNode', 2691: ' SP', 2692: ' TAB', 2693: ' CON', 2690: ' HumanNode', 2695: ' TAB', 2696: ' LT', 2697: ' TV', 2694: ' HumanNode', 2699: ' SP', 2700: ' TAB', 2701: ' LT', 2698: ' HumanNode', 2703: ' SP', 2704: ' TAB', 2705: ' LT', 2706: ' TV', 2702: ' HumanNode', 2708: ' SP', 2709: ' TAB', 2710: ' SW', 2711: ' TV', 2707: ' HumanNode', 2713: ' SP', 2714: ' TAB', 2715: ' LT', 2716: ' CON', 2712: ' HumanNode', 2718: ' SP', 2719: ' TAB', 2720: ' LT', 2721: ' CON', 2717: ' HumanNode', 2723: ' SP', 2724: ' TAB', 2725: ' LT', 2726: ' TV', 2727: ' CON', 2722: ' HumanNode', 2729: ' SP', 2730: ' TAB', 2731: ' SW', 2732: ' LT', 2728: ' HumanNode', 2734: ' SP', 2735: ' TAB', 2736: ' LT', 2737: ' TV', 2738: ' CON', 2733: ' HumanNode', 2740: ' SP', 2741: ' TAB', 2742: ' LT', 2743: ' TV', 2739: ' HumanNode', 2745: ' SP', 2746: ' TAB', 2744: ' HumanNode', 2748: ' SP', 2749: ' TAB', 2747: ' HumanNode', 2751: ' SP', 2752: ' TAB', 2753: ' LT', 2750: ' HumanNode', 2755: ' SP', 2756: ' TAB', 2754: ' HumanNode', 2758: ' SP', 2759: ' TAB', 2760: ' LT', 2761: ' TV', 2762: ' CON', 2757: ' HumanNode', 2764: ' SP', 2765: ' TAB', 2766: ' TV', 2763: ' HumanNode', 2768: ' SP', 2769: ' TAB', 2770: ' LT', 2767: ' HumanNode', 2772: ' SP', 2773: ' TAB', 2774: ' TV', 2771: ' HumanNode', 2776: ' SP', 2777: ' TAB', 2778: ' LT', 2775: ' HumanNode', 2780: ' SP', 2781: ' TAB', 2782: ' LT', 2783: ' TV', 2779: ' HumanNode', 2785: ' SP', 2786: ' TAB', 2787: ' LT', 2788: ' CON', 2784: ' HumanNode', 2790: ' SP', 2791: ' TAB', 2792: ' LT', 2793: ' CON', 2789: ' HumanNode', 2795: ' SP', 2796: ' TAB', 2797: ' LT', 2794: ' HumanNode', 2799: ' SP', 2800: ' TAB', 2801: ' CON', 2798: ' HumanNode', 2803: ' SP', 2804: ' TAB', 2805: ' LT', 2806: ' TV', 2802: ' HumanNode', 2808: ' SP', 2809: ' TAB', 2810: ' TV', 2807: ' HumanNode', 2812: ' SP', 2813: ' TAB', 2814: ' LT', 2811: ' HumanNode', 2816: ' SP', 2817: ' LT', 2815: ' HumanNode', 2819: ' SP', 2820: ' TAB', 2821: ' LT', 2818: ' HumanNode', 2823: ' SP', 2824: ' TAB', 2822: ' HumanNode', 2826: ' SP', 2827: ' TAB', 2828: ' TV', 2829: ' CON', 2825: ' HumanNode', 2831: ' SP', 2832: ' TAB', 2833: ' SW', 2834: ' LT', 2835: ' TV', 2830: ' HumanNode', 2837: ' SP', 2838: ' TAB', 2839: ' TV', 2836: ' HumanNode', 2841: ' SP', 2842: ' TAB', 2840: ' HumanNode', 2844: ' SP', 2845: ' TAB', 2846: ' LT', 2847: ' CON', 2843: ' HumanNode', 2849: ' SP', 2850: ' TAB', 2848: ' HumanNode', 2852: ' SP', 2853: ' TAB', 2854: ' LT', 2855: ' TV', 2856: ' CON', 2851: ' HumanNode', 2858: ' SP', 2859: ' TAB', 2860: ' CON', 2857: ' HumanNode', 2862: ' SP', 2863: ' TAB', 2864: ' LT', 2861: ' HumanNode', 2866: ' SP', 2867: ' TAB', 2868: ' SW', 2869: ' LT', 2870: ' CON', 2865: ' HumanNode', 2872: ' SP', 2873: ' TAB', 2874: ' LT', 2871: ' HumanNode', 2876: ' SP', 2877: ' TAB', 2878: ' LT', 2879: ' CON', 2875: ' HumanNode', 2881: ' SP', 2882: ' TAB', 2880: ' HumanNode', 2884: ' SP', 2885: ' TAB', 2886: ' CON', 2883: ' HumanNode', 2888: ' SP', 2889: ' TAB', 2890: ' LT', 2891: ' TV', 2887: ' HumanNode', 2893: ' SP', 2894: ' TAB', 2895: ' LT', 2896: ' TV', 2892: ' HumanNode', 2898: ' SP', 2899: ' TAB', 2900: ' LT', 2901: ' TV', 2897: ' HumanNode', 2903: ' TAB', 2904: ' LT', 2905: ' TV', 2902: ' HumanNode', 2907: ' SP', 2908: ' TAB', 2909: ' LT', 2906: ' HumanNode', 2911: ' SP', 2912: ' TAB', 2913: ' CON', 2910: ' HumanNode', 2915: ' SP', 2916: ' TAB', 2917: ' LT', 2918: ' CON', 2914: ' HumanNode', 2920: ' SP', 2921: ' TAB', 2922: ' SW', 2923: ' LT', 2924: ' CON', 2919: ' HumanNode', 2926: ' SP', 2927: ' TAB', 2928: ' LT', 2929: ' TV', 2925: ' HumanNode', 2931: ' SP', 2932: ' TAB', 2930: ' HumanNode', 2934: ' SP', 2935: ' TAB', 2936: ' LT', 2933: ' HumanNode', 2938: ' SP', 2939: ' TAB', 2940: ' LT', 2941: ' TV', 2937: ' HumanNode', 2943: ' SP', 2944: ' TAB', 2945: ' LT', 2942: ' HumanNode', 2947: ' SP', 2948: ' TAB', 2949: ' LT', 2950: ' TV', 2946: ' HumanNode', 2952: ' SP', 2953: ' TAB', 2951: ' HumanNode', 2955: ' TAB', 2956: ' LT', 2957: ' CON', 2954: ' HumanNode', 2959: ' SP', 2960: ' TAB', 2958: ' HumanNode', 2962: ' SP', 2963: ' TAB', 2964: ' LT', 2965: ' TV', 2961: ' HumanNode', 2967: ' SP', 2968: ' TAB', 2969: ' LT', 2966: ' HumanNode', 2971: ' SP', 2972: ' TAB', 2973: ' LT', 2974: ' TV', 2970: ' HumanNode', 2976: ' TAB', 2977: ' LT', 2978: ' CON', 2975: ' HumanNode', 2980: ' SP', 2981: ' TAB', 2982: ' LT', 2979: ' HumanNode', 2984: ' SP', 2985: ' TAB', 2986: ' LT', 2987: ' CON', 2983: ' HumanNode', 2989: ' SP', 2990: ' TAB', 2991: ' SW', 2992: ' LT', 2988: ' HumanNode', 2994: ' SP', 2995: ' TAB', 2996: ' LT', 2997: ' TV', 2993: ' HumanNode', 2999: ' SP', 3000: ' TAB', 3001: ' LT', 2998: ' HumanNode', 3003: ' SP', 3004: ' TAB', 3005: ' LT', 3002: ' HumanNode', 3007: ' SP', 3008: ' TAB', 3009: ' LT', 3010: ' TV', 3006: ' HumanNode', 3012: ' SP', 3013: ' TAB', 3014: ' LT', 3015: ' TV', 3016: ' CON', 3011: ' HumanNode', 3018: ' SP', 3019: ' TAB', 3020: ' TV', 3017: ' HumanNode', 3022: ' SP', 3023: ' TAB', 3024: ' LT', 3021: ' HumanNode', 3026: ' SP', 3027: ' TAB', 3025: ' HumanNode', 3029: ' SP', 3030: ' TAB', 3031: ' LT', 3032: ' TV', 3033: ' CON', 3028: ' HumanNode', 3035: ' SP', 3036: ' TAB', 3037: ' LT', 3038: ' TV', 3034: ' HumanNode', 3040: ' SP', 3041: ' TAB', 3042: ' LT', 3039: ' HumanNode', 3044: ' SP', 3045: ' TAB', 3046: ' LT', 3043: ' HumanNode', 3048: ' SP', 3049: ' TAB', 3050: ' LT', 3047: ' HumanNode', 3052: ' SP', 3053: ' TAB', 3054: ' TV', 3051: ' HumanNode', 3056: ' SP', 3057: ' TAB', 3058: ' LT', 3055: ' HumanNode', 3060: ' SP', 3061: ' TAB', 3062: ' LT', 3063: ' TV', 3059: ' HumanNode', 3065: ' SP', 3066: ' TAB', 3067: ' LT', 3068: ' TV', 3064: ' HumanNode', 3070: ' SP', 3071: ' TAB', 3072: ' LT', 3069: ' HumanNode', 3074: ' SP', 3075: ' TAB', 3076: ' SW', 3077: ' LT', 3078: ' TV', 3079: ' CON', 3073: ' HumanNode', 3081: ' SP', 3082: ' TAB', 3083: ' SW', 3084: ' LT', 3085: ' TV', 3080: ' HumanNode', 3087: ' SP', 3088: ' TAB', 3089: ' LT', 3090: ' TV', 3086: ' HumanNode', 3092: ' TAB', 3093: ' TV', 3091: ' HumanNode', 3095: ' SP', 3096: ' TAB', 3097: ' TV', 3094: ' HumanNode', 3099: ' SP', 3100: ' TAB', 3101: ' SW', 3102: ' TV', 3098: ' HumanNode', 3104: ' SP', 3105: ' TAB', 3106: ' LT', 3103: ' HumanNode', 3108: ' SP', 3109: ' TAB', 3110: ' LT', 3111: ' TV', 3107: ' HumanNode', 3113: ' SP', 3114: ' LT', 3112: ' HumanNode', 3116: ' SP', 3117: ' TAB', 3118: ' SW', 3119: ' LT', 3120: ' TV', 3115: ' HumanNode', 3122: ' SP', 3123: ' TAB', 3124: ' LT', 3125: ' CON', 3121: ' HumanNode', 3127: ' SP', 3128: ' TAB', 3129: ' TV', 3130: ' CON', 3126: ' HumanNode', 3132: ' SP', 3133: ' TAB', 3131: ' HumanNode', 3135: ' SP', 3136: ' TAB', 3137: ' LT', 3134: ' HumanNode', 3139: ' SP', 3140: ' TAB', 3138: ' HumanNode', 3142: ' SP', 3143: ' TAB', 3144: ' LT', 3145: ' CON', 3141: ' HumanNode', 3147: ' SP', 3148: ' TAB', 3149: ' LT', 3146: ' HumanNode', 3151: ' SP', 3152: ' TAB', 3153: ' LT', 3150: ' HumanNode', 3155: ' SP', 3156: ' TAB', 3157: ' SW', 3154: ' HumanNode', 3159: ' SP', 3160: ' TAB', 3161: ' LT', 3158: ' HumanNode', 3163: ' SP', 3164: ' TAB', 3165: ' LT', 3166: ' TV', 3162: ' HumanNode', 3168: ' SP', 3169: ' TAB', 3170: ' LT', 3171: ' TV', 3167: ' HumanNode', 3173: ' SP', 3174: ' TAB', 3175: ' TV', 3172: ' HumanNode', 3177: ' SP', 3178: ' TAB', 3179: ' SW', 3180: ' TV', 3176: ' HumanNode', 3182: ' SP', 3183: ' TAB', 3184: ' LT', 3185: ' TV', 3181: ' HumanNode', 3187: ' SP', 3188: ' TAB', 3189: ' TV', 3186: ' HumanNode', 3191: ' SP', 3192: ' TAB', 3193: ' LT', 3190: ' HumanNode', 3195: ' SP', 3196: ' TAB', 3197: ' LT', 3194: ' HumanNode', 3199: ' SP', 3200: ' TAB', 3201: ' LT', 3202: ' CON', 3198: ' HumanNode', 3204: ' SP', 3205: ' TAB', 3206: ' LT', 3203: ' HumanNode', 3208: ' SP', 3209: ' TAB', 3210: ' LT', 3211: ' TV', 3207: ' HumanNode', 3213: ' SP', 3214: ' TAB', 3215: ' TV', 3212: ' HumanNode', 3217: ' SP', 3218: ' TAB', 3219: ' LT', 3216: ' HumanNode', 3221: ' SP', 3222: ' TAB', 3220: ' HumanNode', 3224: ' TAB', 3225: ' LT', 3226: ' TV', 3223: ' HumanNode', 3228: ' TAB', 3229: ' LT', 3227: ' HumanNode', 3231: ' SP', 3232: ' TAB', 3233: ' LT', 3230: ' HumanNode', 3235: ' SP', 3236: ' TAB', 3237: ' SW', 3238: ' TV', 3234: ' HumanNode', 3240: ' SP', 3241: ' TAB', 3242: ' LT', 3243: ' CON', 3239: ' HumanNode', 3245: ' TAB', 3246: ' LT', 3247: ' TV', 3244: ' HumanNode', 3249: ' SP', 3250: ' LT', 3251: ' CON', 3248: ' HumanNode', 3253: ' SP', 3254: ' TAB', 3255: ' TV', 3252: ' HumanNode', 3257: ' SP', 3258: ' TAB', 3256: ' HumanNode', 3260: ' SP', 3261: ' TAB', 3262: ' TV', 3263: ' CON', 3259: ' HumanNode', 3265: ' SP', 3266: ' TAB', 3267: ' LT', 3268: ' TV', 3264: ' HumanNode', 3270: ' SP', 3271: ' TAB', 3272: ' LT', 3273: ' CON', 3269: ' HumanNode', 3275: ' SP', 3276: ' TAB', 3277: ' SW', 3278: ' LT', 3274: ' HumanNode', 3280: ' SP', 3281: ' TAB', 3282: ' LT', 3279: ' HumanNode', 3284: ' SP', 3285: ' TAB', 3286: ' LT', 3283: ' HumanNode', 3288: ' SP', 3289: ' TAB', 3290: ' LT', 3287: ' HumanNode', 3292: ' SP', 3293: ' TAB', 3294: ' TV', 3291: ' HumanNode', 3296: ' SP', 3297: ' TAB', 3298: ' LT', 3295: ' HumanNode', 3300: ' SP', 3301: ' TAB', 3302: ' LT', 3303: ' TV', 3299: ' HumanNode', 3305: ' SP', 3306: ' TAB', 3307: ' CON', 3304: ' HumanNode', 3309: ' SP', 3310: ' TAB', 3311: ' SW', 3312: ' LT', 3308: ' HumanNode', 3314: ' TAB', 3315: ' CON', 3313: ' HumanNode', 3317: ' SP', 3318: ' TAB', 3316: ' HumanNode', 3320: ' TAB', 3321: ' LT', 3322: ' CON', 3319: ' HumanNode', 3324: ' TAB', 3325: ' LT', 3326: ' TV', 3323: ' HumanNode', 3328: ' SP', 3329: ' TAB', 3330: ' LT', 3331: ' TV', 3327: ' HumanNode', 3333: ' SP', 3334: ' TAB', 3332: ' HumanNode', 3336: ' SP', 3337: ' TAB', 3338: ' LT', 3339: ' TV', 3335: ' HumanNode', 3341: ' SP', 3342: ' TAB', 3343: ' SW', 3344: ' LT', 3340: ' HumanNode', 3346: ' SP', 3347: ' LT', 3345: ' HumanNode', 3349: ' SP', 3350: ' TAB', 3351: ' LT', 3352: ' TV', 3348: ' HumanNode', 3354: ' SP', 3355: ' TAB', 3356: ' LT', 3353: ' HumanNode', 3358: ' SP', 3359: ' TAB', 3360: ' LT', 3361: ' TV', 3362: ' CON', 3357: ' HumanNode', 3364: ' SP', 3365: ' TAB', 3366: ' SW', 3367: ' LT', 3368: ' TV', 3363: ' HumanNode', 3370: ' SP', 3371: ' TAB', 3372: ' CON', 3369: ' HumanNode', 3374: ' SP', 3375: ' TAB', 3376: ' LT', 3373: ' HumanNode', 3378: ' SP', 3379: ' TAB', 3380: ' LT', 3377: ' HumanNode', 3382: ' SP', 3383: ' TAB', 3384: ' TV', 3381: ' HumanNode', 3386: ' TAB', 3387: ' TV', 3385: ' HumanNode', 3389: ' SP', 3390: ' TAB', 3391: ' SW', 3392: ' LT', 3388: ' HumanNode', 3394: ' SP', 3395: ' TAB', 3393: ' HumanNode', 3397: ' SP', 3398: ' TAB', 3399: ' LT', 3396: ' HumanNode', 3401: ' SP', 3402: ' TAB', 3400: ' HumanNode', 3404: ' SP', 3405: ' TAB', 3406: ' LT', 3403: ' HumanNode', 3408: ' SP', 3409: ' TAB', 3410: ' LT', 3411: ' CON', 3407: ' HumanNode', 3413: ' SP', 3414: ' TAB', 3415: ' LT', 3412: ' HumanNode', 3417: ' TAB', 3418: ' TV', 3416: ' HumanNode', 3420: ' SP', 3421: ' TAB', 3422: ' LT', 3419: ' HumanNode', 3424: ' SP', 3425: ' TAB', 3426: ' SW', 3427: ' LT', 3428: ' TV', 3429: ' CON', 3423: ' HumanNode', 3431: ' SP', 3432: ' TAB', 3433: ' SW', 3434: ' LT', 3435: ' TV', 3436: ' CON', 3430: ' HumanNode', 3438: ' SP', 3439: ' TAB', 3440: ' LT', 3437: ' HumanNode', 3442: ' SP', 3443: ' TAB', 3444: ' TV', 3441: ' HumanNode', 3446: ' SP', 3447: ' TAB', 3448: ' LT', 3445: ' HumanNode', 3450: ' SP', 3451: ' TAB', 3452: ' SW', 3453: ' LT', 3454: ' TV', 3455: ' CON', 3449: ' HumanNode', 3457: ' SP', 3458: ' TAB', 3459: ' LT', 3460: ' TV', 3461: ' CON', 3456: ' HumanNode', 3463: ' SP', 3464: ' TAB', 3462: ' HumanNode', 3466: ' SP', 3467: ' TAB', 3468: ' LT', 3469: ' CON', 3465: ' HumanNode', 3471: ' SP', 3472: ' TAB', 3473: ' LT', 3474: ' TV', 3470: ' HumanNode', 3476: ' TAB', 3477: ' LT', 3475: ' HumanNode', 3479: ' SP', 3480: ' TAB', 3481: ' LT', 3478: ' HumanNode', 3483: ' SP', 3484: ' TAB', 3485: ' LT', 3486: ' TV', 3487: ' CON', 3482: ' HumanNode', 3489: ' SP', 3490: ' TAB', 3491: ' LT', 3492: ' TV', 3493: ' CON', 3488: ' HumanNode', 3495: ' SP', 3496: ' TAB', 3497: ' LT', 3494: ' HumanNode', 3499: ' SP', 3500: ' TAB', 3501: ' LT', 3498: ' HumanNode', 3503: ' SP', 3504: ' TAB', 3502: ' HumanNode', 3506: ' SP', 3507: ' TAB', 3508: ' LT', 3509: ' TV', 3505: ' HumanNode', 3511: ' SP', 3512: ' TAB', 3513: ' LT', 3510: ' HumanNode', 3515: ' SP', 3516: ' TAB', 3514: ' HumanNode', 3518: ' SP', 3519: ' TAB', 3520: ' LT', 3521: ' TV', 3517: ' HumanNode', 3523: ' SP', 3524: ' TAB', 3525: ' TV', 3522: ' HumanNode', 3527: ' SP', 3528: ' TAB', 3529: ' LT', 3530: ' TV', 3526: ' HumanNode', 3532: ' TAB', 3533: ' SW', 3534: ' LT', 3535: ' TV', 3531: ' HumanNode', 3537: ' SP', 3538: ' TAB', 3539: ' TV', 3536: ' HumanNode', 3541: ' SP', 3542: ' TAB', 3543: ' SW', 3540: ' HumanNode', 3545: ' SP', 3546: ' TAB', 3547: ' LT', 3548: ' TV', 3544: ' HumanNode', 3550: ' SP', 3551: ' TV', 3552: ' CON', 3549: ' HumanNode', 3554: ' SP', 3555: ' TAB', 3553: ' HumanNode', 3557: ' SP', 3558: ' TAB', 3559: ' LT', 3560: ' TV', 3556: ' HumanNode', 3562: ' SP', 3563: ' TAB', 3564: ' TV', 3561: ' HumanNode', 3566: ' TAB', 3567: ' TV', 3565: ' HumanNode', 3569: ' SP', 3570: ' TAB', 3571: ' CON', 3568: ' HumanNode', 3573: ' TAB', 3574: ' LT', 3572: ' HumanNode', 3576: ' SP', 3577: ' TAB', 3578: ' SW', 3579: ' LT', 3575: ' HumanNode', 3581: ' SP', 3582: ' TAB', 3583: ' LT', 3584: ' TV', 3585: ' CON', 3580: ' HumanNode', 3587: ' SP', 3588: ' TAB', 3589: ' LT', 3590: ' TV', 3586: ' HumanNode', 3592: ' SP', 3593: ' TAB', 3594: ' TV', 3591: ' HumanNode', 3596: ' SP', 3597: ' TAB', 3598: ' LT', 3599: ' TV', 3595: ' HumanNode', 3601: ' SP', 3602: ' TAB', 3603: ' LT', 3600: ' HumanNode', 3605: ' SP', 3606: ' TAB', 3604: ' HumanNode', 3608: ' SP', 3609: ' TAB', 3607: ' HumanNode', 3611: ' SP', 3612: ' TAB', 3613: ' LT', 3610: ' HumanNode', 3615: ' SP', 3616: ' TAB', 3617: ' LT', 3614: ' HumanNode', 3619: ' SP', 3620: ' TAB', 3621: ' LT', 3618: ' HumanNode', 3623: ' SP', 3624: ' TAB', 3625: ' LT', 3622: ' HumanNode', 3627: ' SP', 3628: ' TAB', 3629: ' LT', 3630: ' TV', 3631: ' CON', 3626: ' HumanNode', 3633: ' SP', 3634: ' TAB', 3635: ' LT', 3632: ' HumanNode', 3637: ' SP', 3638: ' TAB', 3639: ' LT', 3640: ' TV', 3636: ' HumanNode', 3642: ' SP', 3643: ' TAB', 3644: ' LT', 3645: ' TV', 3641: ' HumanNode', 3647: ' SP', 3648: ' TAB', 3646: ' HumanNode', 3650: ' SP', 3651: ' TAB', 3652: ' SW', 3649: ' HumanNode', 3654: ' SP', 3655: ' TAB', 3656: ' LT', 3657: ' CON', 3653: ' HumanNode', 3659: ' SP', 3660: ' TAB', 3661: ' LT', 3658: ' HumanNode', 3663: ' SP', 3664: ' TAB', 3662: ' HumanNode', 3666: ' SP', 3667: ' TAB', 3668: ' TV', 3665: ' HumanNode', 3670: ' SP', 3671: ' TAB', 3669: ' HumanNode', 3673: ' SP', 3674: ' TAB', 3675: ' LT', 3672: ' HumanNode', 3677: ' SP', 3678: ' TV', 3676: ' HumanNode', 3680: ' SP', 3681: ' TAB', 3682: ' LT', 3679: ' HumanNode', 3684: ' SP', 3685: ' TAB', 3686: ' LT', 3687: ' TV', 3688: ' CON', 3683: ' HumanNode', 3690: ' TAB', 3691: ' TV', 3689: ' HumanNode', 3693: ' SP', 3694: ' TAB', 3695: ' LT', 3696: ' TV', 3692: ' HumanNode', 3698: ' SP', 3699: ' TAB', 3700: ' SW', 3697: ' HumanNode', 3702: ' SP', 3703: ' TAB', 3704: ' LT', 3705: ' CON', 3701: ' HumanNode', 3707: ' SP', 3708: ' TAB', 3709: ' LT', 3710: ' TV', 3706: ' HumanNode', 3712: ' SP', 3713: ' TAB', 3714: ' LT', 3715: ' CON', 3711: ' HumanNode', 3717: ' SP', 3718: ' TAB', 3719: ' LT', 3716: ' HumanNode', 3721: ' SP', 3722: ' TAB', 3723: ' LT', 3724: ' TV', 3720: ' HumanNode', 3726: ' TAB', 3727: ' TV', 3728: ' CON', 3725: ' HumanNode', 3730: ' SP', 3731: ' TAB', 3729: ' HumanNode', 3733: ' SP', 3734: ' TAB', 3735: ' LT', 3736: ' TV', 3732: ' HumanNode', 3738: ' SP', 3739: ' TAB', 3737: ' HumanNode', 3741: ' SP', 3742: ' TAB', 3743: ' LT', 3740: ' HumanNode', 3745: ' SP', 3746: ' TAB', 3747: ' LT', 3748: ' CON', 3744: ' HumanNode', 3750: ' TAB', 3751: ' LT', 3752: ' TV', 3749: ' HumanNode', 3754: ' SP', 3755: ' TAB', 3756: ' LT', 3757: ' CON', 3753: ' HumanNode', 3759: ' SP', 3760: ' TAB', 3761: ' LT', 3762: ' TV', 3758: ' HumanNode', 3764: ' SP', 3765: ' TAB', 3766: ' SW', 3767: ' LT', 3763: ' HumanNode', 3769: ' SP', 3770: ' TAB', 3771: ' SW', 3772: ' CON', 3768: ' HumanNode', 3774: ' SP', 3775: ' TAB', 3773: ' HumanNode', 3777: ' SP', 3778: ' TAB', 3776: ' HumanNode', 3780: ' SP', 3781: ' TAB', 3782: ' SW', 3783: ' LT', 3784: ' CON', 3779: ' HumanNode', 3786: ' SP', 3787: ' TAB', 3788: ' LT', 3785: ' HumanNode', 3790: ' SP', 3791: ' TAB', 3792: ' LT', 3793: ' TV', 3789: ' HumanNode', 3795: ' SP', 3796: ' TAB', 3797: ' LT', 3798: ' TV', 3799: ' CON', 3794: ' HumanNode', 3801: ' SP', 3802: ' TAB', 3803: ' LT', 3800: ' HumanNode', 3805: ' SP', 3806: ' TAB', 3807: ' LT', 3808: ' CON', 3804: ' HumanNode', 3810: ' SP', 3811: ' TAB', 3812: ' LT', 3813: ' TV', 3809: ' HumanNode', 3815: ' SP', 3816: ' LT', 3814: ' HumanNode', 3818: ' SP', 3819: ' TAB', 3820: ' LT', 3821: ' TV', 3817: ' HumanNode', 3823: ' SP', 3824: ' TAB', 3825: ' SW', 3826: ' LT', 3822: ' HumanNode', 3828: ' SP', 3829: ' TAB', 3830: ' LT', 3827: ' HumanNode', 3832: ' SP', 3833: ' TAB', 3834: ' SW', 3835: ' LT', 3836: ' TV', 3831: ' HumanNode', 3838: ' SP', 3839: ' TAB', 3840: ' SW', 3841: ' LT', 3837: ' HumanNode', 3843: ' SP', 3844: ' TAB', 3842: ' HumanNode', 3846: ' SP', 3847: ' TAB', 3845: ' HumanNode', 3849: ' SP', 3850: ' TAB', 3851: ' SW', 3852: ' LT', 3848: ' HumanNode', 3854: ' SP', 3855: ' TAB', 3856: ' SW', 3857: ' LT', 3853: ' HumanNode', 3859: ' SP', 3860: ' TAB', 3858: ' HumanNode', 3862: ' SP', 3863: ' TAB', 3864: ' SW', 3865: ' LT', 3861: ' HumanNode', 3867: ' SP', 3868: ' TAB', 3866: ' HumanNode', 3870: ' SP', 3871: ' TAB', 3872: ' LT', 3873: ' TV', 3869: ' HumanNode', 3875: ' TAB', 3876: ' LT', 3877: ' TV', 3874: ' HumanNode', 3879: ' SP', 3880: ' TAB', 3881: ' TV', 3878: ' HumanNode', 3883: ' SP', 3884: ' TAB', 3882: ' HumanNode', 3886: ' SP', 3887: ' SW', 3888: ' LT', 3889: ' TV', 3885: ' HumanNode', 3891: ' SP', 3890: ' HumanNode', 3893: ' SP', 3894: ' TAB', 3895: ' LT', 3896: ' TV', 3897: ' CON', 3892: ' HumanNode', 3899: ' SP', 3900: ' TAB', 3901: ' LT', 3902: ' TV', 3898: ' HumanNode', 3904: ' SP', 3905: ' TAB', 3903: ' HumanNode', 3907: ' SP', 3908: ' TAB', 3909: ' LT', 3910: ' CON', 3906: ' HumanNode', 3912: ' SP', 3913: ' TAB', 3914: ' LT', 3915: ' TV', 3911: ' HumanNode', 3917: ' SP', 3918: ' TAB', 3916: ' HumanNode', 3920: ' SP', 3921: ' TAB', 3922: ' SW', 3923: ' LT', 3919: ' HumanNode', 3925: ' SP', 3926: ' TAB', 3927: ' SW', 3928: ' LT', 3924: ' HumanNode', 3930: ' SP', 3931: ' TAB', 3932: ' LT', 3929: ' HumanNode', 3934: ' SP', 3935: ' TAB', 3936: ' LT', 3937: ' TV', 3933: ' HumanNode', 3939: ' SP', 3940: ' TAB', 3941: ' LT', 3942: ' TV', 3943: ' CON', 3938: ' HumanNode', 3945: ' SP', 3946: ' TAB', 3947: ' CON', 3944: ' HumanNode', 3949: ' TAB', 3950: ' LT', 3948: ' HumanNode', 3952: ' SP', 3953: ' TAB', 3954: ' LT', 3955: ' TV', 3951: ' HumanNode', 3957: ' SP', 3958: ' TAB', 3959: ' LT', 3960: ' CON', 3956: ' HumanNode', 3962: ' SP', 3963: ' TAB', 3964: ' LT', 3965: ' CON', 3961: ' HumanNode', 3967: ' SP', 3968: ' TAB', 3969: ' LT', 3970: ' TV', 3966: ' HumanNode', 3972: ' SP', 3973: ' TAB', 3971: ' HumanNode', 3975: ' TAB', 3976: ' LT', 3977: ' TV', 3974: ' HumanNode', 3979: ' SP', 3980: ' TAB', 3981: ' LT', 3982: ' CON', 3978: ' HumanNode', 3984: ' SP', 3985: ' TAB', 3986: ' LT', 3987: ' CON', 3983: ' HumanNode', 3989: ' SP', 3990: ' TAB', 3991: ' LT', 3988: ' HumanNode', 3993: ' SP', 3994: ' TAB', 3995: ' SW', 3996: ' TV', 3992: ' HumanNode', 3998: ' SP', 3999: ' TAB', 3997: ' HumanNode', 4001: ' SP', 4002: ' TAB', 4003: ' SW', 4004: ' LT', 4000: ' HumanNode', 4006: ' SP', 4007: ' TAB', 4005: ' HumanNode', 4009: ' SP', 4010: ' TAB', 4008: ' HumanNode', 4012: ' SP', 4013: ' TAB', 4014: ' TV', 4011: ' HumanNode', 4016: ' SP', 4017: ' TAB', 4018: ' LT', 4019: ' CON', 4015: ' HumanNode', 4021: ' SP', 4022: ' TAB', 4023: ' LT', 4024: ' TV', 4020: ' HumanNode', 4026: ' TAB', 4027: ' SW', 4028: ' LT', 4029: ' CON', 4025: ' HumanNode', 4031: ' SP', 4032: ' TAB', 4030: ' HumanNode', 4034: ' TAB', 4035: ' LT', 4033: ' HumanNode', 4037: ' SP', 4038: ' TAB', 4039: ' LT', 4036: ' HumanNode', 4041: ' SP', 4042: ' TAB', 4040: ' HumanNode', 4044: ' SP', 4045: ' TAB', 4046: ' LT', 4043: ' HumanNode', 4048: ' SP', 4049: ' TAB', 4050: ' LT', 4047: ' HumanNode', 4052: ' TAB', 4053: ' TV', 4051: ' HumanNode', 4055: ' SP', 4056: ' TAB', 4057: ' LT', 4054: ' HumanNode', 4059: ' SP', 4060: ' TAB', 4061: ' LT', 4058: ' HumanNode', 4063: ' SP', 4064: ' TAB', 4062: ' HumanNode', 4066: ' SP', 4067: ' TAB', 4068: ' LT', 4069: ' CON', 4065: ' HumanNode', 4071: ' TAB', 4072: ' SW', 4073: ' LT', 4070: ' HumanNode', 4075: ' SP', 4076: ' TAB', 4077: ' SW', 4078: ' LT', 4079: ' TV', 4074: ' HumanNode', 4081: ' SP', 4082: ' TAB', 4083: ' TV', 4080: ' HumanNode', 4085: ' SP', 4086: ' TAB', 4087: ' LT', 4088: ' TV', 4084: ' HumanNode', 4090: ' SP', 4091: ' TAB', 4092: ' LT', 4093: ' CON', 4089: ' HumanNode', 4095: ' SP', 4096: ' TAB', 4097: ' SW', 4098: ' CON', 4094: ' HumanNode', 4100: ' SP', 4101: ' TAB', 4102: ' SW', 4103: ' LT', 4104: ' TV', 4099: ' HumanNode', 4106: ' SP', 4107: ' TAB', 4108: ' SW', 4109: ' LT', 4105: ' HumanNode', 4111: ' SP', 4112: ' TAB', 4113: ' LT', 4114: ' CON', 4110: ' HumanNode', 4116: ' SP', 4117: ' TAB', 4118: ' LT', 4115: ' HumanNode', 4120: ' SP', 4121: ' TAB', 4122: ' LT', 4119: ' HumanNode', 4124: ' SP', 4125: ' TAB', 4123: ' HumanNode', 4127: ' SP', 4128: ' TAB', 4126: ' HumanNode', 4130: ' SP', 4131: ' TAB', 4132: ' SW', 4133: ' LT', 4134: ' TV', 4129: ' HumanNode', 4136: ' SP', 4137: ' TAB', 4138: ' LT', 4139: ' TV', 4135: ' HumanNode', 4141: ' SP', 4142: ' TAB', 4143: ' LT', 4140: ' HumanNode', 4145: ' SP', 4146: ' TAB', 4147: ' CON', 4144: ' HumanNode', 4149: ' SP', 4150: ' TAB', 4151: ' CON', 4148: ' HumanNode', 4153: ' SP', 4154: ' TAB', 4155: ' LT', 4156: ' TV', 4152: ' HumanNode', 4158: ' SP', 4159: ' TAB', 4157: ' HumanNode', 4161: ' SP', 4162: ' TAB', 4163: ' TV', 4164: ' CON', 4160: ' HumanNode', 4166: ' SP', 4167: ' TAB', 4168: ' TV', 4165: ' HumanNode', 4170: ' SP', 4171: ' TAB', 4172: ' LT', 4173: ' TV', 4169: ' HumanNode', 4175: ' SP', 4176: ' TAB', 4177: ' SW', 4178: ' LT', 4179: ' TV', 4174: ' HumanNode', 4181: ' SP', 4182: ' TAB', 4183: ' LT', 4180: ' HumanNode', 4185: ' SP', 4186: ' TAB', 4187: ' LT', 4184: ' HumanNode', 4189: ' SP', 4190: ' TAB', 4191: ' LT', 4192: ' TV', 4188: ' HumanNode', 4194: ' TAB', 4195: ' LT', 4196: ' TV', 4193: ' HumanNode', 4198: ' SP', 4199: ' LT', 4200: ' TV', 4201: ' CON', 4197: ' HumanNode', 4203: ' SP', 4204: ' TAB', 4205: ' SW', 4206: ' LT', 4202: ' HumanNode', 4208: ' SP', 4209: ' TAB', 4210: ' LT', 4207: ' HumanNode', 4212: ' SP', 4213: ' TAB', 4214: ' LT', 4215: ' TV', 4216: ' CON', 4211: ' HumanNode', 4218: ' SP', 4219: ' TAB', 4220: ' LT', 4217: ' HumanNode', 4222: ' SP', 4223: ' TAB', 4224: ' SW', 4221: ' HumanNode', 4226: ' SP', 4227: ' LT', 4228: ' TV', 4225: ' HumanNode', 4230: ' SP', 4231: ' TAB', 4232: ' LT', 4233: ' TV', 4229: ' HumanNode', 4235: ' SP', 4236: ' TAB', 4237: ' LT', 4238: ' TV', 4234: ' HumanNode', 4240: ' SP', 4241: ' LT', 4239: ' HumanNode', 4243: ' SP', 4244: ' TAB', 4245: ' LT', 4246: ' TV', 4242: ' HumanNode', 4248: ' SP', 4249: ' TAB', 4250: ' LT', 4251: ' TV', 4247: ' HumanNode', 4253: ' SP', 4254: ' TAB', 4252: ' HumanNode', 4256: ' SP', 4257: ' TAB', 4258: ' SW', 4259: ' LT', 4260: ' CON', 4255: ' HumanNode', 4262: ' SP', 4263: ' TAB', 4264: ' LT', 4261: ' HumanNode', 4266: ' SP', 4267: ' TAB', 4268: ' LT', 4265: ' HumanNode', 4270: ' SP', 4271: ' TAB', 4272: ' LT', 4273: ' CON', 4269: ' HumanNode', 4275: ' SP', 4276: ' TAB', 4277: ' SW', 4278: ' LT', 4274: ' HumanNode'}\n"
     ]
    },
    {
     "data": {
      "application/vnd.jupyter.widget-view+json": {
       "model_id": "23b1f54baa0c4d94970388bc7bde07a5",
       "version_major": 2,
       "version_minor": 0
      },
      "text/plain": [
       "  0%|          | 0/61211352 [00:00<?, ?it/s]"
      ]
     },
     "metadata": {},
     "output_type": "display_data"
    },
    {
     "name": "stdout",
     "output_type": "stream",
     "text": [
      "[48148136, 23405444, 6714040, 33264906, 3550298, 7339880]\n"
     ]
    }
   ],
   "source": [
    "devices = [' SP', ' LT', ' TV', ' TAB', ' CON', ' SW']\n",
    "contacsAmount = [0, 0, 0, 0, 0, 0]\n",
    "contacts = contacts.iloc[:, [0, 1]]\n",
    "print(contacts.head())\n",
    "print(info)\n",
    "info_dict = {}\n",
    "for _, row in info.iterrows():\n",
    "    info_dict[row['id']] = row[' type']\n",
    "print(info_dict)\n",
    "\n",
    "for index in tqdm(range(len(contacts))):\n",
    "    row = contacts.iloc[index]\n",
    "    id1 = int(row[0]) \n",
    "    id2 = int(row[1])\n",
    "    id1_type = info_dict.get(id1)\n",
    "    id2_type = info_dict.get(id2)\n",
    "    for _, i in info.iterrows():\n",
    "        temp_id = i['id']\n",
    "        if temp_id == id1:\n",
    "            id1_type = i[' type']\n",
    "        elif temp_id == id2: \n",
    "            id2_type = i[' type']\n",
    "    index1 = devices.index(id1_type) \n",
    "    index2 = devices.index(id2_type)\n",
    "    contacsAmount[index1] += 1\n",
    "    contacsAmount[index2] += 1\n",
    "\n",
    "print(contacsAmount)"
   ]
  },
  {
   "cell_type": "code",
   "execution_count": 44,
   "metadata": {},
   "outputs": [
    {
     "name": "stdout",
     "output_type": "stream",
     "text": [
      "[48148136, 23405444, 6714040, 33264906, 3550298, 7339880]\n"
     ]
    },
    {
     "data": {
      "application/vnd.plotly.v1+json": {
       "config": {
        "plotlyServerURL": "https://plot.ly"
       },
       "data": [
        {
         "type": "bar",
         "x": [
          " SP",
          " LT",
          " TV",
          " TAB",
          " CON",
          " SW"
         ],
         "y": [
          48148136,
          23405444,
          6714040,
          33264906,
          3550298,
          7339880
         ]
        }
       ],
       "layout": {
        "bargap": 0.6,
        "height": 400,
        "template": {
         "data": {
          "bar": [
           {
            "error_x": {
             "color": "#2a3f5f"
            },
            "error_y": {
             "color": "#2a3f5f"
            },
            "marker": {
             "line": {
              "color": "#E5ECF6",
              "width": 0.5
             },
             "pattern": {
              "fillmode": "overlay",
              "size": 10,
              "solidity": 0.2
             }
            },
            "type": "bar"
           }
          ],
          "barpolar": [
           {
            "marker": {
             "line": {
              "color": "#E5ECF6",
              "width": 0.5
             },
             "pattern": {
              "fillmode": "overlay",
              "size": 10,
              "solidity": 0.2
             }
            },
            "type": "barpolar"
           }
          ],
          "carpet": [
           {
            "aaxis": {
             "endlinecolor": "#2a3f5f",
             "gridcolor": "white",
             "linecolor": "white",
             "minorgridcolor": "white",
             "startlinecolor": "#2a3f5f"
            },
            "baxis": {
             "endlinecolor": "#2a3f5f",
             "gridcolor": "white",
             "linecolor": "white",
             "minorgridcolor": "white",
             "startlinecolor": "#2a3f5f"
            },
            "type": "carpet"
           }
          ],
          "choropleth": [
           {
            "colorbar": {
             "outlinewidth": 0,
             "ticks": ""
            },
            "type": "choropleth"
           }
          ],
          "contour": [
           {
            "colorbar": {
             "outlinewidth": 0,
             "ticks": ""
            },
            "colorscale": [
             [
              0,
              "#0d0887"
             ],
             [
              0.1111111111111111,
              "#46039f"
             ],
             [
              0.2222222222222222,
              "#7201a8"
             ],
             [
              0.3333333333333333,
              "#9c179e"
             ],
             [
              0.4444444444444444,
              "#bd3786"
             ],
             [
              0.5555555555555556,
              "#d8576b"
             ],
             [
              0.6666666666666666,
              "#ed7953"
             ],
             [
              0.7777777777777778,
              "#fb9f3a"
             ],
             [
              0.8888888888888888,
              "#fdca26"
             ],
             [
              1,
              "#f0f921"
             ]
            ],
            "type": "contour"
           }
          ],
          "contourcarpet": [
           {
            "colorbar": {
             "outlinewidth": 0,
             "ticks": ""
            },
            "type": "contourcarpet"
           }
          ],
          "heatmap": [
           {
            "colorbar": {
             "outlinewidth": 0,
             "ticks": ""
            },
            "colorscale": [
             [
              0,
              "#0d0887"
             ],
             [
              0.1111111111111111,
              "#46039f"
             ],
             [
              0.2222222222222222,
              "#7201a8"
             ],
             [
              0.3333333333333333,
              "#9c179e"
             ],
             [
              0.4444444444444444,
              "#bd3786"
             ],
             [
              0.5555555555555556,
              "#d8576b"
             ],
             [
              0.6666666666666666,
              "#ed7953"
             ],
             [
              0.7777777777777778,
              "#fb9f3a"
             ],
             [
              0.8888888888888888,
              "#fdca26"
             ],
             [
              1,
              "#f0f921"
             ]
            ],
            "type": "heatmap"
           }
          ],
          "heatmapgl": [
           {
            "colorbar": {
             "outlinewidth": 0,
             "ticks": ""
            },
            "colorscale": [
             [
              0,
              "#0d0887"
             ],
             [
              0.1111111111111111,
              "#46039f"
             ],
             [
              0.2222222222222222,
              "#7201a8"
             ],
             [
              0.3333333333333333,
              "#9c179e"
             ],
             [
              0.4444444444444444,
              "#bd3786"
             ],
             [
              0.5555555555555556,
              "#d8576b"
             ],
             [
              0.6666666666666666,
              "#ed7953"
             ],
             [
              0.7777777777777778,
              "#fb9f3a"
             ],
             [
              0.8888888888888888,
              "#fdca26"
             ],
             [
              1,
              "#f0f921"
             ]
            ],
            "type": "heatmapgl"
           }
          ],
          "histogram": [
           {
            "marker": {
             "pattern": {
              "fillmode": "overlay",
              "size": 10,
              "solidity": 0.2
             }
            },
            "type": "histogram"
           }
          ],
          "histogram2d": [
           {
            "colorbar": {
             "outlinewidth": 0,
             "ticks": ""
            },
            "colorscale": [
             [
              0,
              "#0d0887"
             ],
             [
              0.1111111111111111,
              "#46039f"
             ],
             [
              0.2222222222222222,
              "#7201a8"
             ],
             [
              0.3333333333333333,
              "#9c179e"
             ],
             [
              0.4444444444444444,
              "#bd3786"
             ],
             [
              0.5555555555555556,
              "#d8576b"
             ],
             [
              0.6666666666666666,
              "#ed7953"
             ],
             [
              0.7777777777777778,
              "#fb9f3a"
             ],
             [
              0.8888888888888888,
              "#fdca26"
             ],
             [
              1,
              "#f0f921"
             ]
            ],
            "type": "histogram2d"
           }
          ],
          "histogram2dcontour": [
           {
            "colorbar": {
             "outlinewidth": 0,
             "ticks": ""
            },
            "colorscale": [
             [
              0,
              "#0d0887"
             ],
             [
              0.1111111111111111,
              "#46039f"
             ],
             [
              0.2222222222222222,
              "#7201a8"
             ],
             [
              0.3333333333333333,
              "#9c179e"
             ],
             [
              0.4444444444444444,
              "#bd3786"
             ],
             [
              0.5555555555555556,
              "#d8576b"
             ],
             [
              0.6666666666666666,
              "#ed7953"
             ],
             [
              0.7777777777777778,
              "#fb9f3a"
             ],
             [
              0.8888888888888888,
              "#fdca26"
             ],
             [
              1,
              "#f0f921"
             ]
            ],
            "type": "histogram2dcontour"
           }
          ],
          "mesh3d": [
           {
            "colorbar": {
             "outlinewidth": 0,
             "ticks": ""
            },
            "type": "mesh3d"
           }
          ],
          "parcoords": [
           {
            "line": {
             "colorbar": {
              "outlinewidth": 0,
              "ticks": ""
             }
            },
            "type": "parcoords"
           }
          ],
          "pie": [
           {
            "automargin": true,
            "type": "pie"
           }
          ],
          "scatter": [
           {
            "fillpattern": {
             "fillmode": "overlay",
             "size": 10,
             "solidity": 0.2
            },
            "type": "scatter"
           }
          ],
          "scatter3d": [
           {
            "line": {
             "colorbar": {
              "outlinewidth": 0,
              "ticks": ""
             }
            },
            "marker": {
             "colorbar": {
              "outlinewidth": 0,
              "ticks": ""
             }
            },
            "type": "scatter3d"
           }
          ],
          "scattercarpet": [
           {
            "marker": {
             "colorbar": {
              "outlinewidth": 0,
              "ticks": ""
             }
            },
            "type": "scattercarpet"
           }
          ],
          "scattergeo": [
           {
            "marker": {
             "colorbar": {
              "outlinewidth": 0,
              "ticks": ""
             }
            },
            "type": "scattergeo"
           }
          ],
          "scattergl": [
           {
            "marker": {
             "colorbar": {
              "outlinewidth": 0,
              "ticks": ""
             }
            },
            "type": "scattergl"
           }
          ],
          "scattermapbox": [
           {
            "marker": {
             "colorbar": {
              "outlinewidth": 0,
              "ticks": ""
             }
            },
            "type": "scattermapbox"
           }
          ],
          "scatterpolar": [
           {
            "marker": {
             "colorbar": {
              "outlinewidth": 0,
              "ticks": ""
             }
            },
            "type": "scatterpolar"
           }
          ],
          "scatterpolargl": [
           {
            "marker": {
             "colorbar": {
              "outlinewidth": 0,
              "ticks": ""
             }
            },
            "type": "scatterpolargl"
           }
          ],
          "scatterternary": [
           {
            "marker": {
             "colorbar": {
              "outlinewidth": 0,
              "ticks": ""
             }
            },
            "type": "scatterternary"
           }
          ],
          "surface": [
           {
            "colorbar": {
             "outlinewidth": 0,
             "ticks": ""
            },
            "colorscale": [
             [
              0,
              "#0d0887"
             ],
             [
              0.1111111111111111,
              "#46039f"
             ],
             [
              0.2222222222222222,
              "#7201a8"
             ],
             [
              0.3333333333333333,
              "#9c179e"
             ],
             [
              0.4444444444444444,
              "#bd3786"
             ],
             [
              0.5555555555555556,
              "#d8576b"
             ],
             [
              0.6666666666666666,
              "#ed7953"
             ],
             [
              0.7777777777777778,
              "#fb9f3a"
             ],
             [
              0.8888888888888888,
              "#fdca26"
             ],
             [
              1,
              "#f0f921"
             ]
            ],
            "type": "surface"
           }
          ],
          "table": [
           {
            "cells": {
             "fill": {
              "color": "#EBF0F8"
             },
             "line": {
              "color": "white"
             }
            },
            "header": {
             "fill": {
              "color": "#C8D4E3"
             },
             "line": {
              "color": "white"
             }
            },
            "type": "table"
           }
          ]
         },
         "layout": {
          "annotationdefaults": {
           "arrowcolor": "#2a3f5f",
           "arrowhead": 0,
           "arrowwidth": 1
          },
          "autotypenumbers": "strict",
          "coloraxis": {
           "colorbar": {
            "outlinewidth": 0,
            "ticks": ""
           }
          },
          "colorscale": {
           "diverging": [
            [
             0,
             "#8e0152"
            ],
            [
             0.1,
             "#c51b7d"
            ],
            [
             0.2,
             "#de77ae"
            ],
            [
             0.3,
             "#f1b6da"
            ],
            [
             0.4,
             "#fde0ef"
            ],
            [
             0.5,
             "#f7f7f7"
            ],
            [
             0.6,
             "#e6f5d0"
            ],
            [
             0.7,
             "#b8e186"
            ],
            [
             0.8,
             "#7fbc41"
            ],
            [
             0.9,
             "#4d9221"
            ],
            [
             1,
             "#276419"
            ]
           ],
           "sequential": [
            [
             0,
             "#0d0887"
            ],
            [
             0.1111111111111111,
             "#46039f"
            ],
            [
             0.2222222222222222,
             "#7201a8"
            ],
            [
             0.3333333333333333,
             "#9c179e"
            ],
            [
             0.4444444444444444,
             "#bd3786"
            ],
            [
             0.5555555555555556,
             "#d8576b"
            ],
            [
             0.6666666666666666,
             "#ed7953"
            ],
            [
             0.7777777777777778,
             "#fb9f3a"
            ],
            [
             0.8888888888888888,
             "#fdca26"
            ],
            [
             1,
             "#f0f921"
            ]
           ],
           "sequentialminus": [
            [
             0,
             "#0d0887"
            ],
            [
             0.1111111111111111,
             "#46039f"
            ],
            [
             0.2222222222222222,
             "#7201a8"
            ],
            [
             0.3333333333333333,
             "#9c179e"
            ],
            [
             0.4444444444444444,
             "#bd3786"
            ],
            [
             0.5555555555555556,
             "#d8576b"
            ],
            [
             0.6666666666666666,
             "#ed7953"
            ],
            [
             0.7777777777777778,
             "#fb9f3a"
            ],
            [
             0.8888888888888888,
             "#fdca26"
            ],
            [
             1,
             "#f0f921"
            ]
           ]
          },
          "colorway": [
           "#636efa",
           "#EF553B",
           "#00cc96",
           "#ab63fa",
           "#FFA15A",
           "#19d3f3",
           "#FF6692",
           "#B6E880",
           "#FF97FF",
           "#FECB52"
          ],
          "font": {
           "color": "#2a3f5f"
          },
          "geo": {
           "bgcolor": "white",
           "lakecolor": "white",
           "landcolor": "#E5ECF6",
           "showlakes": true,
           "showland": true,
           "subunitcolor": "white"
          },
          "hoverlabel": {
           "align": "left"
          },
          "hovermode": "closest",
          "mapbox": {
           "style": "light"
          },
          "paper_bgcolor": "white",
          "plot_bgcolor": "#E5ECF6",
          "polar": {
           "angularaxis": {
            "gridcolor": "white",
            "linecolor": "white",
            "ticks": ""
           },
           "bgcolor": "#E5ECF6",
           "radialaxis": {
            "gridcolor": "white",
            "linecolor": "white",
            "ticks": ""
           }
          },
          "scene": {
           "xaxis": {
            "backgroundcolor": "#E5ECF6",
            "gridcolor": "white",
            "gridwidth": 2,
            "linecolor": "white",
            "showbackground": true,
            "ticks": "",
            "zerolinecolor": "white"
           },
           "yaxis": {
            "backgroundcolor": "#E5ECF6",
            "gridcolor": "white",
            "gridwidth": 2,
            "linecolor": "white",
            "showbackground": true,
            "ticks": "",
            "zerolinecolor": "white"
           },
           "zaxis": {
            "backgroundcolor": "#E5ECF6",
            "gridcolor": "white",
            "gridwidth": 2,
            "linecolor": "white",
            "showbackground": true,
            "ticks": "",
            "zerolinecolor": "white"
           }
          },
          "shapedefaults": {
           "line": {
            "color": "#2a3f5f"
           }
          },
          "ternary": {
           "aaxis": {
            "gridcolor": "white",
            "linecolor": "white",
            "ticks": ""
           },
           "baxis": {
            "gridcolor": "white",
            "linecolor": "white",
            "ticks": ""
           },
           "bgcolor": "#E5ECF6",
           "caxis": {
            "gridcolor": "white",
            "linecolor": "white",
            "ticks": ""
           }
          },
          "title": {
           "x": 0.05
          },
          "xaxis": {
           "automargin": true,
           "gridcolor": "white",
           "linecolor": "white",
           "ticks": "",
           "title": {
            "standoff": 15
           },
           "zerolinecolor": "white",
           "zerolinewidth": 2
          },
          "yaxis": {
           "automargin": true,
           "gridcolor": "white",
           "linecolor": "white",
           "ticks": "",
           "title": {
            "standoff": 15
           },
           "zerolinecolor": "white",
           "zerolinewidth": 2
          }
         }
        },
        "title": {
         "text": "Quantidade de contatos por tipo de dispositivo"
        },
        "width": 500,
        "xaxis": {
         "title": {
          "text": "Tipo de dispositivo"
         }
        },
        "yaxis": {
         "title": {
          "text": "Quantidade de contatos"
         }
        }
       }
      }
     },
     "metadata": {},
     "output_type": "display_data"
    }
   ],
   "source": [
    "print(contacsAmount)\n",
    "fig = go.Figure(data=go.Bar(x=devices, y=contacsAmount))\n",
    "fig.update_layout(\n",
    "    title=\"Quantidade de contatos por tipo de dispositivo\",\n",
    "    xaxis_title=\"Tipo de dispositivo\",\n",
    "    yaxis_title=\"Quantidade de contatos\",\n",
    "    bargap=0.6,\n",
    "    width=500, height=400\n",
    ")\n"
   ]
  }
 ],
 "metadata": {
  "kernelspec": {
   "display_name": "Python 3",
   "language": "python",
   "name": "python3"
  },
  "language_info": {
   "codemirror_mode": {
    "name": "ipython",
    "version": 3
   },
   "file_extension": ".py",
   "mimetype": "text/x-python",
   "name": "python",
   "nbconvert_exporter": "python",
   "pygments_lexer": "ipython3",
   "version": "3.10.11"
  },
  "orig_nbformat": 4
 },
 "nbformat": 4,
 "nbformat_minor": 2
}
